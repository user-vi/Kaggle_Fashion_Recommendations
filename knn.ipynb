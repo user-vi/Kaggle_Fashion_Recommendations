{
 "cells": [
  {
   "cell_type": "markdown",
   "id": "6fdec25e",
   "metadata": {},
   "source": [
    "https://github.com/KevinLiao159/MyDataSciencePortfolio/blob/af84b7162e320ee72622265b3b2857a8dc772f55/movie_recommender/src/knn_recommender.py#L224"
   ]
  },
  {
   "cell_type": "code",
   "execution_count": 1,
   "id": "03d62c21",
   "metadata": {},
   "outputs": [],
   "source": [
    "import pandas as pd\n",
    "import numpy as np\n",
    "from scipy import sparse\n",
    "from tqdm.notebook import tqdm\n",
    "from sklearn.neighbors import NearestNeighbors\n",
    "\n",
    "from mapk import mapk\n",
    "from train_test_split import holdout\n",
    "\n",
    "pd.set_option('display.max_columns', None)\n",
    "# pd.set_option('display.max_rows', None)"
   ]
  },
  {
   "cell_type": "code",
   "execution_count": 2,
   "id": "986899ae",
   "metadata": {},
   "outputs": [],
   "source": [
    "# articles = pd.read_csv('../data/articles.csv')\n",
    "# customers = pd.read_csv('../data/customers.csv')\n",
    "transactions_train = pd.read_csv('../data/transactions_train.csv')"
   ]
  },
  {
   "cell_type": "code",
   "execution_count": 3,
   "id": "761c99fd",
   "metadata": {},
   "outputs": [],
   "source": [
    "# from sklearn.model_selection import train_test_split\n",
    "transactions_train['t_dat'] = pd.to_datetime(transactions_train['t_dat'])\n",
    "transactions_train = transactions_train.query('t_dat > \"2020-08-16\"')"
   ]
  },
  {
   "cell_type": "markdown",
   "id": "e2511500",
   "metadata": {},
   "source": [
    "# train"
   ]
  },
  {
   "cell_type": "code",
   "execution_count": 4,
   "id": "73701ed1",
   "metadata": {},
   "outputs": [],
   "source": [
    "train, test = holdout(transactions_train)"
   ]
  },
  {
   "cell_type": "code",
   "execution_count": 5,
   "id": "659c897f",
   "metadata": {},
   "outputs": [],
   "source": [
    "# удалим из обучающей выборки пользователей, которые есть в тестовой\n",
    "test_users = test[['customer_id']]\n",
    "\n",
    "train_users = set(\n",
    "    (\n",
    "        pd.merge(train[['customer_id']], test_users, indicator=True, how='outer')\n",
    "        .query('_merge==\"left_only\"')\n",
    "        .drop('_merge', axis=1)\n",
    "    ).customer_id\n",
    ")\n",
    "\n",
    "train = train.query('customer_id in @train_users')"
   ]
  },
  {
   "cell_type": "code",
   "execution_count": 6,
   "id": "2313375f",
   "metadata": {},
   "outputs": [],
   "source": [
    "def create_mappings(df, column):\n",
    "    '''\n",
    "    create_mappings(df, column)\n",
    "        Создаёт маппинг между оригинальными ключами словаря и новыми порядковыми.\n",
    "        \n",
    "        Parameters\n",
    "        ----------\n",
    "        df : pandas.DataFrame\n",
    "            DataFrame с данными.\n",
    "            \n",
    "        column : str\n",
    "            Название колонки, содержащей нужны ключи. \n",
    "        \n",
    "        Returns\n",
    "        -------\n",
    "        code_to_idx : dict\n",
    "            Словарь с маппингом: \"оригинальный ключ\" -> \"новый ключ\".\n",
    "        \n",
    "        idx_to_code : dict\n",
    "            Словарь с маппингом: \"новый ключ\" -> \"оригинальный ключ\".\n",
    "    '''\n",
    "    \n",
    "    code_to_idx = {}\n",
    "    idx_to_code = {}\n",
    "    \n",
    "    # for idx, code in enumerate(df[column].to_list()):\n",
    "    for idx, code in enumerate(set(df[column])):\n",
    "        code_to_idx[code] = idx\n",
    "        idx_to_code[idx] = code\n",
    "        \n",
    "    return code_to_idx, idx_to_code\n",
    "\n",
    "\n",
    "def map_ids(row, mapping):\n",
    "    '''\n",
    "    Вспомогательная функция\n",
    "    '''\n",
    "    return mapping[row]"
   ]
  },
  {
   "cell_type": "code",
   "execution_count": 7,
   "id": "d981394d",
   "metadata": {},
   "outputs": [
    {
     "name": "stdout",
     "output_type": "stream",
     "text": [
      "CPU times: user 1.72 s, sys: 54.6 ms, total: 1.77 s\n",
      "Wall time: 1.77 s\n"
     ]
    }
   ],
   "source": [
    "%%time\n",
    "\n",
    "# словари с маппингами, нужно для tocsr матрицы\n",
    "user_to_idx, idx_to_user = create_mappings(transactions_train, 'customer_id')\n",
    "item_to_idx, idx_to_item = create_mappings(transactions_train, 'article_id')\n",
    "\n",
    "# собираем матрицу взаимодействий \n",
    "U = transactions_train['customer_id'].apply(map_ids, args=[user_to_idx]).values\n",
    "I = transactions_train['article_id'].apply(map_ids, args=[item_to_idx]).values\n",
    "\n",
    "# тут пока бинарная маска будет лежать для упрощения\n",
    "# можно попробовать поиграться с ценами\n",
    "values = np.ones(transactions_train.shape[0])\n",
    "    \n",
    "interactions = sparse.coo_matrix(\n",
    "    (values, (U, I)), \n",
    "    shape=(len(transactions_train['customer_id'].unique()), len(transactions_train['article_id'].unique())), \n",
    "    dtype=np.float64\n",
    ").tocsr()\n"
   ]
  },
  {
   "cell_type": "code",
   "execution_count": 8,
   "id": "00b52012",
   "metadata": {},
   "outputs": [
    {
     "data": {
      "text/plain": [
       "NearestNeighbors(metric='cosine', n_jobs=-1, n_neighbors=20)"
      ]
     },
     "execution_count": 8,
     "metadata": {},
     "output_type": "execute_result"
    }
   ],
   "source": [
    "model = NearestNeighbors(n_neighbors=20, metric='cosine', n_jobs=-1)\n",
    "model.fit(interactions)"
   ]
  },
  {
   "cell_type": "code",
   "execution_count": 9,
   "id": "64247619",
   "metadata": {},
   "outputs": [],
   "source": [
    "def make_predict(x, model, interactions=interactions):\n",
    "    user = x.customer_id\n",
    "    idx = user_to_idx[user]\n",
    "    \n",
    "    distances, indices = model.kneighbors(interactions[idx], return_distance=100)\n",
    "\n",
    "    neighbor_users = [idx_to_user[i] for i in indices[0][1:]]\n",
    "    \n",
    "    # local_pop = train.query('customer_id in @neighbor_users')\\\n",
    "    #                 .groupby('article_id').size()\\\n",
    "    #                 .sort_values(ascending=False)[:12].index.values\n",
    "    local_pop = train.loc[train.customer_id.isin(neighbor_users)]\\\n",
    "                    .groupby('article_id').size()\\\n",
    "                    .sort_values(ascending=False)[:12].index.values\n",
    "    return list(local_pop)"
   ]
  },
  {
   "cell_type": "code",
   "execution_count": 10,
   "id": "7079b271",
   "metadata": {},
   "outputs": [],
   "source": [
    "from tqdm.notebook import tqdm\n",
    "tqdm.pandas()"
   ]
  },
  {
   "cell_type": "code",
   "execution_count": 16,
   "id": "d8a6ac96",
   "metadata": {},
   "outputs": [],
   "source": [
    "t = test.iloc[:10000].copy()"
   ]
  },
  {
   "cell_type": "code",
   "execution_count": 17,
   "id": "32400cd0",
   "metadata": {
    "scrolled": true
   },
   "outputs": [
    {
     "data": {
      "application/vnd.jupyter.widget-view+json": {
       "model_id": "84a03c80878d4742af0360e4181f2df2",
       "version_major": 2,
       "version_minor": 0
      },
      "text/plain": [
       "  0%|          | 0/10000 [00:00<?, ?it/s]"
      ]
     },
     "metadata": {},
     "output_type": "display_data"
    },
    {
     "name": "stdout",
     "output_type": "stream",
     "text": [
      "CPU times: user 14min 57s, sys: 2min 28s, total: 17min 25s\n",
      "Wall time: 12min 37s\n"
     ]
    }
   ],
   "source": [
    "%%time\n",
    "t['predict'] = t.progress_apply(make_predict, \n",
    "                                     model=model,\n",
    "                                     interactions=interactions,  \n",
    "                                     axis=1)"
   ]
  },
  {
   "cell_type": "code",
   "execution_count": 18,
   "id": "974b4b28",
   "metadata": {},
   "outputs": [
    {
     "data": {
      "text/plain": [
       "0.558611424725507"
      ]
     },
     "execution_count": 18,
     "metadata": {},
     "output_type": "execute_result"
    }
   ],
   "source": [
    "mapk(t['target'].to_list(), t['predict'].to_list())"
   ]
  },
  {
   "cell_type": "code",
   "execution_count": 19,
   "id": "cf239c7f",
   "metadata": {},
   "outputs": [
    {
     "data": {
      "text/html": [
       "<div>\n",
       "<style scoped>\n",
       "    .dataframe tbody tr th:only-of-type {\n",
       "        vertical-align: middle;\n",
       "    }\n",
       "\n",
       "    .dataframe tbody tr th {\n",
       "        vertical-align: top;\n",
       "    }\n",
       "\n",
       "    .dataframe thead th {\n",
       "        text-align: right;\n",
       "    }\n",
       "</style>\n",
       "<table border=\"1\" class=\"dataframe\">\n",
       "  <thead>\n",
       "    <tr style=\"text-align: right;\">\n",
       "      <th></th>\n",
       "      <th>customer_id</th>\n",
       "      <th>target</th>\n",
       "      <th>predict</th>\n",
       "    </tr>\n",
       "  </thead>\n",
       "  <tbody>\n",
       "    <tr>\n",
       "      <th>0</th>\n",
       "      <td>00039306476aaf41a07fed942884f16b30abfa83a2a8be...</td>\n",
       "      <td>[624486001]</td>\n",
       "      <td>[624486001, 855769003, 902388001, 908799002, 9...</td>\n",
       "    </tr>\n",
       "    <tr>\n",
       "      <th>1</th>\n",
       "      <td>0003e867a930d0d6842f923d6ba7c9b77aba33fe2a0fbf...</td>\n",
       "      <td>[827487003]</td>\n",
       "      <td>[621381012, 640021012, 905914002, 623072001, 9...</td>\n",
       "    </tr>\n",
       "    <tr>\n",
       "      <th>2</th>\n",
       "      <td>000493dd9fc463df1acc2081450c9e75ef8e87d5dd17ed...</td>\n",
       "      <td>[757926001, 788575004, 640021019]</td>\n",
       "      <td>[640021019, 399136061, 556255001, 732842021, 7...</td>\n",
       "    </tr>\n",
       "    <tr>\n",
       "      <th>3</th>\n",
       "      <td>000525e3fe01600d717da8423643a8303390a055c578ed...</td>\n",
       "      <td>[874110016]</td>\n",
       "      <td>[874110016]</td>\n",
       "    </tr>\n",
       "    <tr>\n",
       "      <th>4</th>\n",
       "      <td>00077dbd5c4a4991e092e63893ccf29294a9d5c46e8501...</td>\n",
       "      <td>[903762001, 879189005, 158340001, 867966009, 9...</td>\n",
       "      <td>[936622001, 935892001, 933989002, 929744001, 9...</td>\n",
       "    </tr>\n",
       "    <tr>\n",
       "      <th>...</th>\n",
       "      <td>...</td>\n",
       "      <td>...</td>\n",
       "      <td>...</td>\n",
       "    </tr>\n",
       "    <tr>\n",
       "      <th>9995</th>\n",
       "      <td>24ca3d0100a4ec36b9a2b9ee0f42f1047b4d66ed1586ae...</td>\n",
       "      <td>[878604002, 871710001]</td>\n",
       "      <td>[871710001, 791587009]</td>\n",
       "    </tr>\n",
       "    <tr>\n",
       "      <th>9996</th>\n",
       "      <td>24cb7d813a28c0ab44741eb9118d74d9a6dda573a10a87...</td>\n",
       "      <td>[822416001, 685814033, 708132001]</td>\n",
       "      <td>[685814033]</td>\n",
       "    </tr>\n",
       "    <tr>\n",
       "      <th>9997</th>\n",
       "      <td>24cc164bd06a174d4319d4251f36d252363b94204fa1d3...</td>\n",
       "      <td>[888727010]</td>\n",
       "      <td>[888727010, 868161002, 855827009, 759423002, 9...</td>\n",
       "    </tr>\n",
       "    <tr>\n",
       "      <th>9998</th>\n",
       "      <td>24cc5b5e9d6bb480c3cf101d88d033d3a5377cfd7ce6b2...</td>\n",
       "      <td>[832253002, 832253002, 934212003, 865799005, 8...</td>\n",
       "      <td>[865799005, 885077001, 903926002, 914805002, 9...</td>\n",
       "    </tr>\n",
       "    <tr>\n",
       "      <th>9999</th>\n",
       "      <td>24ccaebba1ff4fc969f4dc8ef95372c4704d1eeaebb490...</td>\n",
       "      <td>[911699002, 926502001, 926502001, 906169002, 8...</td>\n",
       "      <td>[926502001, 919365008, 905957001, 909925001]</td>\n",
       "    </tr>\n",
       "  </tbody>\n",
       "</table>\n",
       "<p>10000 rows × 3 columns</p>\n",
       "</div>"
      ],
      "text/plain": [
       "                                            customer_id  \\\n",
       "0     00039306476aaf41a07fed942884f16b30abfa83a2a8be...   \n",
       "1     0003e867a930d0d6842f923d6ba7c9b77aba33fe2a0fbf...   \n",
       "2     000493dd9fc463df1acc2081450c9e75ef8e87d5dd17ed...   \n",
       "3     000525e3fe01600d717da8423643a8303390a055c578ed...   \n",
       "4     00077dbd5c4a4991e092e63893ccf29294a9d5c46e8501...   \n",
       "...                                                 ...   \n",
       "9995  24ca3d0100a4ec36b9a2b9ee0f42f1047b4d66ed1586ae...   \n",
       "9996  24cb7d813a28c0ab44741eb9118d74d9a6dda573a10a87...   \n",
       "9997  24cc164bd06a174d4319d4251f36d252363b94204fa1d3...   \n",
       "9998  24cc5b5e9d6bb480c3cf101d88d033d3a5377cfd7ce6b2...   \n",
       "9999  24ccaebba1ff4fc969f4dc8ef95372c4704d1eeaebb490...   \n",
       "\n",
       "                                                 target  \\\n",
       "0                                           [624486001]   \n",
       "1                                           [827487003]   \n",
       "2                     [757926001, 788575004, 640021019]   \n",
       "3                                           [874110016]   \n",
       "4     [903762001, 879189005, 158340001, 867966009, 9...   \n",
       "...                                                 ...   \n",
       "9995                             [878604002, 871710001]   \n",
       "9996                  [822416001, 685814033, 708132001]   \n",
       "9997                                        [888727010]   \n",
       "9998  [832253002, 832253002, 934212003, 865799005, 8...   \n",
       "9999  [911699002, 926502001, 926502001, 906169002, 8...   \n",
       "\n",
       "                                                predict  \n",
       "0     [624486001, 855769003, 902388001, 908799002, 9...  \n",
       "1     [621381012, 640021012, 905914002, 623072001, 9...  \n",
       "2     [640021019, 399136061, 556255001, 732842021, 7...  \n",
       "3                                           [874110016]  \n",
       "4     [936622001, 935892001, 933989002, 929744001, 9...  \n",
       "...                                                 ...  \n",
       "9995                             [871710001, 791587009]  \n",
       "9996                                        [685814033]  \n",
       "9997  [888727010, 868161002, 855827009, 759423002, 9...  \n",
       "9998  [865799005, 885077001, 903926002, 914805002, 9...  \n",
       "9999       [926502001, 919365008, 905957001, 909925001]  \n",
       "\n",
       "[10000 rows x 3 columns]"
      ]
     },
     "execution_count": 19,
     "metadata": {},
     "output_type": "execute_result"
    }
   ],
   "source": [
    "t"
   ]
  }
 ],
 "metadata": {
  "kernelspec": {
   "display_name": "Python 3",
   "language": "python",
   "name": "python3"
  },
  "language_info": {
   "codemirror_mode": {
    "name": "ipython",
    "version": 3
   },
   "file_extension": ".py",
   "mimetype": "text/x-python",
   "name": "python",
   "nbconvert_exporter": "python",
   "pygments_lexer": "ipython3",
   "version": "3.8.8"
  }
 },
 "nbformat": 4,
 "nbformat_minor": 5
}
