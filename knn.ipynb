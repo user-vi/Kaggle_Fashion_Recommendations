{
 "cells": [
  {
   "cell_type": "markdown",
   "id": "b48d2a2a",
   "metadata": {},
   "source": [
    "https://github.com/KevinLiao159/MyDataSciencePortfolio/blob/af84b7162e320ee72622265b3b2857a8dc772f55/movie_recommender/src/knn_recommender.py#L224"
   ]
  },
  {
   "cell_type": "code",
   "execution_count": 63,
   "id": "03d62c21",
   "metadata": {},
   "outputs": [],
   "source": [
    "import pandas as pd\n",
    "import numpy as np\n",
    "from scipy import sparse\n",
    "from tqdm.notebook import tqdm\n",
    "from sklearn.neighbors import NearestNeighbors\n",
    "\n",
    "from mapk import mapk\n",
    "from train_test_split import holdout\n",
    "\n",
    "pd.set_option('display.max_columns', None)\n",
    "# pd.set_option('display.max_rows', None)"
   ]
  },
  {
   "cell_type": "code",
   "execution_count": 64,
   "id": "986899ae",
   "metadata": {},
   "outputs": [],
   "source": [
    "# articles = pd.read_csv('../data/articles.csv')\n",
    "# customers = pd.read_csv('../data/customers.csv')\n",
    "transactions_train = pd.read_csv('../data/transactions_train.csv')"
   ]
  },
  {
   "cell_type": "code",
   "execution_count": 65,
   "id": "761c99fd",
   "metadata": {},
   "outputs": [],
   "source": [
    "# from sklearn.model_selection import train_test_split\n",
    "transactions_train['t_dat'] = pd.to_datetime(transactions_train['t_dat'])\n",
    "transactions_train = transactions_train.query('t_dat > \"2019-08-16\"')"
   ]
  },
  {
   "cell_type": "markdown",
   "id": "e2511500",
   "metadata": {},
   "source": [
    "# train"
   ]
  },
  {
   "cell_type": "code",
   "execution_count": 66,
   "id": "73701ed1",
   "metadata": {},
   "outputs": [],
   "source": [
    "train, test = holdout(transactions_train)"
   ]
  },
  {
   "cell_type": "code",
   "execution_count": 67,
   "id": "659c897f",
   "metadata": {},
   "outputs": [],
   "source": [
    "# удалим из обучающей выборки пользователей, которые есть в тестовой\n",
    "# test_users = test[['customer_id']]\n",
    "\n",
    "# train_users = set(\n",
    "#     (\n",
    "#         pd.merge(train[['customer_id']], test_users, indicator=True, how='outer')\n",
    "#         .query('_merge==\"left_only\"')\n",
    "#         .drop('_merge', axis=1)\n",
    "#     ).customer_id\n",
    "# )\n",
    "\n",
    "# train = train.query('customer_id in @train_users')"
   ]
  },
  {
   "cell_type": "code",
   "execution_count": 68,
   "id": "2313375f",
   "metadata": {},
   "outputs": [],
   "source": [
    "def create_mappings(df, column):\n",
    "    '''\n",
    "    create_mappings(df, column)\n",
    "        Создаёт маппинг между оригинальными ключами словаря и новыми порядковыми.\n",
    "        \n",
    "        Parameters\n",
    "        ----------\n",
    "        df : pandas.DataFrame\n",
    "            DataFrame с данными.\n",
    "            \n",
    "        column : str\n",
    "            Название колонки, содержащей нужны ключи. \n",
    "        \n",
    "        Returns\n",
    "        -------\n",
    "        code_to_idx : dict\n",
    "            Словарь с маппингом: \"оригинальный ключ\" -> \"новый ключ\".\n",
    "        \n",
    "        idx_to_code : dict\n",
    "            Словарь с маппингом: \"новый ключ\" -> \"оригинальный ключ\".\n",
    "    '''\n",
    "    \n",
    "    code_to_idx = {}\n",
    "    idx_to_code = {}\n",
    "    \n",
    "    # for idx, code in enumerate(df[column].to_list()):\n",
    "    for idx, code in enumerate(set(df[column])):\n",
    "        code_to_idx[code] = idx\n",
    "        idx_to_code[idx] = code\n",
    "        \n",
    "    return code_to_idx, idx_to_code\n",
    "\n",
    "\n",
    "def map_ids(row, mapping):\n",
    "    '''\n",
    "    Вспомогательная функция\n",
    "    '''\n",
    "    return mapping[row]"
   ]
  },
  {
   "cell_type": "code",
   "execution_count": 69,
   "id": "d981394d",
   "metadata": {},
   "outputs": [
    {
     "name": "stdout",
     "output_type": "stream",
     "text": [
      "CPU times: user 22.3 s, sys: 729 ms, total: 23 s\n",
      "Wall time: 23 s\n"
     ]
    }
   ],
   "source": [
    "%%time\n",
    "\n",
    "# словари с маппингами, нужно для tocsr матрицы\n",
    "user_to_idx, idx_to_user = create_mappings(train, 'customer_id')\n",
    "item_to_idx, idx_to_item = create_mappings(train, 'article_id')\n",
    "\n",
    "# собираем матрицу взаимодействий \n",
    "U = train['customer_id'].apply(map_ids, args=[user_to_idx]).values\n",
    "I = train['article_id'].apply(map_ids, args=[item_to_idx]).values\n",
    "\n",
    "# тут пока бинарная маска будет лежать для упрощения\n",
    "# можно попробовать поиграться с ценами\n",
    "values = np.ones(train.shape[0])\n",
    "    \n",
    "interactions = sparse.coo_matrix(\n",
    "    (values, (U, I)), \n",
    "    shape=(len(train['customer_id'].unique()), len(train['article_id'].unique())), \n",
    "    dtype=np.float64\n",
    ").tocsr()\n"
   ]
  },
  {
   "cell_type": "code",
   "execution_count": 70,
   "id": "9d093e18",
   "metadata": {},
   "outputs": [
    {
     "data": {
      "text/plain": [
       "NearestNeighbors(metric='cosine', n_jobs=-1)"
      ]
     },
     "execution_count": 70,
     "metadata": {},
     "output_type": "execute_result"
    }
   ],
   "source": [
    "model = NearestNeighbors(metric='cosine', n_jobs=-1)\n",
    "model.fit(interactions)"
   ]
  },
  {
   "cell_type": "code",
   "execution_count": 92,
   "id": "b9d8120b",
   "metadata": {},
   "outputs": [],
   "source": [
    "def make_predict_most_pop(train=train):\n",
    "    most_pop = train.query('t_dat > \"2020-09-05\"')\\\n",
    "        .groupby('article_id').size()\\\n",
    "        .sort_values(ascending=False)[:12].index.values\n",
    "    return list(most_pop) \n",
    "\n",
    "def make_predict(x, model, interactions=interactions, **params):\n",
    "    n_neighbors = params['n_neighbors']\n",
    "    date_from = params['date_from']\n",
    "    \n",
    "    user = x.customer_id\n",
    "    if user in user_to_idx:\n",
    "        idx = user_to_idx[user]\n",
    "\n",
    "        distances, indices = model.kneighbors(interactions[idx], n_neighbors=n_neighbors)\n",
    "\n",
    "        neighbor_users = [idx_to_user[i] for i in indices[0][1:]]\n",
    "    \n",
    "        # query('t_dat > \"2020-08-16\"') - покупки за последний месяц\n",
    "        local_pop = train.loc[train.customer_id.isin(neighbor_users)]\\\n",
    "                        .query('t_dat > @date_from')\\\n",
    "                        .groupby('article_id').size()\\\n",
    "                        .sort_values(ascending=False)[:12].index.values\n",
    "        return list(local_pop)\n",
    "    else:\n",
    "        most_pop = make_predict_most_pop()\n",
    "        return most_pop"
   ]
  },
  {
   "cell_type": "code",
   "execution_count": 86,
   "id": "cd701a89",
   "metadata": {},
   "outputs": [],
   "source": [
    "from tqdm.notebook import tqdm\n",
    "tqdm.pandas()"
   ]
  },
  {
   "cell_type": "code",
   "execution_count": 95,
   "id": "32400cd0",
   "metadata": {
    "scrolled": true
   },
   "outputs": [
    {
     "data": {
      "application/vnd.jupyter.widget-view+json": {
       "model_id": "ba227c3409b84b29a58b1d8b91a5b83f",
       "version_major": 2,
       "version_minor": 0
      },
      "text/plain": [
       "  0%|          | 0/100 [00:00<?, ?it/s]"
      ]
     },
     "metadata": {},
     "output_type": "display_data"
    },
    {
     "name": "stdout",
     "output_type": "stream",
     "text": [
      "CPU times: user 3min 51s, sys: 34.8 s, total: 4min 26s\n",
      "Wall time: 2min 9s\n"
     ]
    }
   ],
   "source": [
    "%%time\n",
    "params = dict()\n",
    "params['n_neighbors'] = 100\n",
    "params['date_from'] = \"2020-08-16\"\n",
    "    \n",
    "t = test.iloc[:100].copy()\n",
    "t['predict'] = t.progress_apply(make_predict, \n",
    "                                     model=model,\n",
    "                                     interactions=interactions,\n",
    "                                     **params,\n",
    "                                     axis=1)"
   ]
  },
  {
   "cell_type": "code",
   "execution_count": 96,
   "id": "974b4b28",
   "metadata": {},
   "outputs": [
    {
     "data": {
      "text/plain": [
       "0.005083333333333333"
      ]
     },
     "execution_count": 96,
     "metadata": {},
     "output_type": "execute_result"
    }
   ],
   "source": [
    "mapk(t['target'].to_list(), t['predict'].to_list())"
   ]
  },
  {
   "cell_type": "code",
   "execution_count": 97,
   "id": "b59983bb",
   "metadata": {},
   "outputs": [
    {
     "data": {
      "text/html": [
       "<div>\n",
       "<style scoped>\n",
       "    .dataframe tbody tr th:only-of-type {\n",
       "        vertical-align: middle;\n",
       "    }\n",
       "\n",
       "    .dataframe tbody tr th {\n",
       "        vertical-align: top;\n",
       "    }\n",
       "\n",
       "    .dataframe thead th {\n",
       "        text-align: right;\n",
       "    }\n",
       "</style>\n",
       "<table border=\"1\" class=\"dataframe\">\n",
       "  <thead>\n",
       "    <tr style=\"text-align: right;\">\n",
       "      <th></th>\n",
       "      <th>customer_id</th>\n",
       "      <th>target</th>\n",
       "      <th>predict</th>\n",
       "    </tr>\n",
       "  </thead>\n",
       "  <tbody>\n",
       "    <tr>\n",
       "      <th>0</th>\n",
       "      <td>00039306476aaf41a07fed942884f16b30abfa83a2a8be...</td>\n",
       "      <td>[624486001]</td>\n",
       "      <td>[671607001, 297067002, 436261001, 158340001, 8...</td>\n",
       "    </tr>\n",
       "    <tr>\n",
       "      <th>1</th>\n",
       "      <td>0003e867a930d0d6842f923d6ba7c9b77aba33fe2a0fbf...</td>\n",
       "      <td>[827487003]</td>\n",
       "      <td>[873217004, 621381012, 886557002, 744276001, 7...</td>\n",
       "    </tr>\n",
       "    <tr>\n",
       "      <th>2</th>\n",
       "      <td>000493dd9fc463df1acc2081450c9e75ef8e87d5dd17ed...</td>\n",
       "      <td>[757926001, 788575004, 640021019]</td>\n",
       "      <td>[706016001, 706016002, 237347045]</td>\n",
       "    </tr>\n",
       "    <tr>\n",
       "      <th>3</th>\n",
       "      <td>000525e3fe01600d717da8423643a8303390a055c578ed...</td>\n",
       "      <td>[874110016]</td>\n",
       "      <td>[909370001, 918522001, 448509014, 751471001, 8...</td>\n",
       "    </tr>\n",
       "    <tr>\n",
       "      <th>4</th>\n",
       "      <td>00077dbd5c4a4991e092e63893ccf29294a9d5c46e8501...</td>\n",
       "      <td>[903762001, 879189005, 158340001, 867966009, 9...</td>\n",
       "      <td>[806388001, 715624001, 806388002, 803772002, 6...</td>\n",
       "    </tr>\n",
       "    <tr>\n",
       "      <th>...</th>\n",
       "      <td>...</td>\n",
       "      <td>...</td>\n",
       "      <td>...</td>\n",
       "    </tr>\n",
       "    <tr>\n",
       "      <th>95</th>\n",
       "      <td>00686b4fe3ea577b41d9caa524b37d707a1e46aa4c7013...</td>\n",
       "      <td>[900387001]</td>\n",
       "      <td>[872537002, 763275002, 751664001, 919273002, 7...</td>\n",
       "    </tr>\n",
       "    <tr>\n",
       "      <th>96</th>\n",
       "      <td>006908fb1f581e64408d2c5a57bf65e06b26939dce50b8...</td>\n",
       "      <td>[907149001, 714790024, 640021012, 918890001]</td>\n",
       "      <td>[153115020, 568601023, 751471038, 828928001, 8...</td>\n",
       "    </tr>\n",
       "    <tr>\n",
       "      <th>97</th>\n",
       "      <td>006a396de0a8edc6694241b5aafc5fad652547dfd42b7e...</td>\n",
       "      <td>[908728002, 909059002]</td>\n",
       "      <td>[372860002, 683001028, 699755061, 700765001, 7...</td>\n",
       "    </tr>\n",
       "    <tr>\n",
       "      <th>98</th>\n",
       "      <td>006a7b180527417a034cf3d6544baf906f12805d8271ee...</td>\n",
       "      <td>[805000010, 873679002, 711416003, 859400005, 9...</td>\n",
       "      <td>[805000001, 762846008, 878800003, 911870004, 9...</td>\n",
       "    </tr>\n",
       "    <tr>\n",
       "      <th>99</th>\n",
       "      <td>006bc15fc15987591692907ef89898bfe17fd1f80370cd...</td>\n",
       "      <td>[825719003, 884668002, 706016015]</td>\n",
       "      <td>[909370001, 918522001, 448509014, 751471001, 8...</td>\n",
       "    </tr>\n",
       "  </tbody>\n",
       "</table>\n",
       "<p>100 rows × 3 columns</p>\n",
       "</div>"
      ],
      "text/plain": [
       "                                          customer_id  \\\n",
       "0   00039306476aaf41a07fed942884f16b30abfa83a2a8be...   \n",
       "1   0003e867a930d0d6842f923d6ba7c9b77aba33fe2a0fbf...   \n",
       "2   000493dd9fc463df1acc2081450c9e75ef8e87d5dd17ed...   \n",
       "3   000525e3fe01600d717da8423643a8303390a055c578ed...   \n",
       "4   00077dbd5c4a4991e092e63893ccf29294a9d5c46e8501...   \n",
       "..                                                ...   \n",
       "95  00686b4fe3ea577b41d9caa524b37d707a1e46aa4c7013...   \n",
       "96  006908fb1f581e64408d2c5a57bf65e06b26939dce50b8...   \n",
       "97  006a396de0a8edc6694241b5aafc5fad652547dfd42b7e...   \n",
       "98  006a7b180527417a034cf3d6544baf906f12805d8271ee...   \n",
       "99  006bc15fc15987591692907ef89898bfe17fd1f80370cd...   \n",
       "\n",
       "                                               target  \\\n",
       "0                                         [624486001]   \n",
       "1                                         [827487003]   \n",
       "2                   [757926001, 788575004, 640021019]   \n",
       "3                                         [874110016]   \n",
       "4   [903762001, 879189005, 158340001, 867966009, 9...   \n",
       "..                                                ...   \n",
       "95                                        [900387001]   \n",
       "96       [907149001, 714790024, 640021012, 918890001]   \n",
       "97                             [908728002, 909059002]   \n",
       "98  [805000010, 873679002, 711416003, 859400005, 9...   \n",
       "99                  [825719003, 884668002, 706016015]   \n",
       "\n",
       "                                              predict  \n",
       "0   [671607001, 297067002, 436261001, 158340001, 8...  \n",
       "1   [873217004, 621381012, 886557002, 744276001, 7...  \n",
       "2                   [706016001, 706016002, 237347045]  \n",
       "3   [909370001, 918522001, 448509014, 751471001, 8...  \n",
       "4   [806388001, 715624001, 806388002, 803772002, 6...  \n",
       "..                                                ...  \n",
       "95  [872537002, 763275002, 751664001, 919273002, 7...  \n",
       "96  [153115020, 568601023, 751471038, 828928001, 8...  \n",
       "97  [372860002, 683001028, 699755061, 700765001, 7...  \n",
       "98  [805000001, 762846008, 878800003, 911870004, 9...  \n",
       "99  [909370001, 918522001, 448509014, 751471001, 8...  \n",
       "\n",
       "[100 rows x 3 columns]"
      ]
     },
     "execution_count": 97,
     "metadata": {},
     "output_type": "execute_result"
    }
   ],
   "source": [
    "t"
   ]
  },
  {
   "cell_type": "code",
   "execution_count": null,
   "id": "3c5c92ad",
   "metadata": {},
   "outputs": [],
   "source": []
  }
 ],
 "metadata": {
  "kernelspec": {
   "display_name": "Python 3",
   "language": "python",
   "name": "python3"
  },
  "language_info": {
   "codemirror_mode": {
    "name": "ipython",
    "version": 3
   },
   "file_extension": ".py",
   "mimetype": "text/x-python",
   "name": "python",
   "nbconvert_exporter": "python",
   "pygments_lexer": "ipython3",
   "version": "3.8.8"
  }
 },
 "nbformat": 4,
 "nbformat_minor": 5
}
