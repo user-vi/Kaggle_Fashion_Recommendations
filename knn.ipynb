{
 "cells": [
  {
   "cell_type": "markdown",
   "id": "b48d2a2a",
   "metadata": {},
   "source": [
    "https://github.com/KevinLiao159/MyDataSciencePortfolio/blob/af84b7162e320ee72622265b3b2857a8dc772f55/movie_recommender/src/knn_recommender.py#L224"
   ]
  },
  {
   "cell_type": "code",
   "execution_count": 48,
   "id": "03d62c21",
   "metadata": {},
   "outputs": [],
   "source": [
    "import pandas as pd\n",
    "import numpy as np\n",
    "from scipy import sparse\n",
    "from tqdm.notebook import tqdm\n",
    "from sklearn.neighbors import NearestNeighbors\n",
    "\n",
    "from mapk import mapk\n",
    "from train_test_split import holdout\n",
    "\n",
    "pd.set_option('display.max_columns', None)\n",
    "# pd.set_option('display.max_rows', None)"
   ]
  },
  {
   "cell_type": "code",
   "execution_count": 49,
   "id": "986899ae",
   "metadata": {},
   "outputs": [],
   "source": [
    "# articles = pd.read_csv('../data/articles.csv')\n",
    "# customers = pd.read_csv('../data/customers.csv')\n",
    "transactions_train = pd.read_csv('../data/transactions_train.csv')"
   ]
  },
  {
   "cell_type": "code",
   "execution_count": 50,
   "id": "761c99fd",
   "metadata": {},
   "outputs": [],
   "source": [
    "# from sklearn.model_selection import train_test_split\n",
    "transactions_train['t_dat'] = pd.to_datetime(transactions_train['t_dat'])\n",
    "# transactions_train = transactions_train.query('t_dat > \"2019-08-16\"')"
   ]
  },
  {
   "cell_type": "markdown",
   "id": "e2511500",
   "metadata": {},
   "source": [
    "# train"
   ]
  },
  {
   "cell_type": "code",
   "execution_count": 51,
   "id": "73701ed1",
   "metadata": {},
   "outputs": [],
   "source": [
    "train, test = holdout(transactions_train)"
   ]
  },
  {
   "cell_type": "code",
   "execution_count": 52,
   "id": "659c897f",
   "metadata": {},
   "outputs": [],
   "source": [
    "# удалим из обучающей выборки пользователей, которые есть в тестовой\n",
    "test_users = test[['customer_id']]\n",
    "\n",
    "train_users = set(\n",
    "    (\n",
    "        pd.merge(train[['customer_id']], test_users, indicator=True, how='outer')\n",
    "        .query('_merge==\"left_only\"')\n",
    "        .drop('_merge', axis=1)\n",
    "    ).customer_id\n",
    ")\n",
    "\n",
    "train = train.query('customer_id in @train_users')"
   ]
  },
  {
   "cell_type": "code",
   "execution_count": 53,
   "id": "2313375f",
   "metadata": {},
   "outputs": [],
   "source": [
    "def create_mappings(df, column):\n",
    "    '''\n",
    "    create_mappings(df, column)\n",
    "        Создаёт маппинг между оригинальными ключами словаря и новыми порядковыми.\n",
    "        \n",
    "        Parameters\n",
    "        ----------\n",
    "        df : pandas.DataFrame\n",
    "            DataFrame с данными.\n",
    "            \n",
    "        column : str\n",
    "            Название колонки, содержащей нужны ключи. \n",
    "        \n",
    "        Returns\n",
    "        -------\n",
    "        code_to_idx : dict\n",
    "            Словарь с маппингом: \"оригинальный ключ\" -> \"новый ключ\".\n",
    "        \n",
    "        idx_to_code : dict\n",
    "            Словарь с маппингом: \"новый ключ\" -> \"оригинальный ключ\".\n",
    "    '''\n",
    "    \n",
    "    code_to_idx = {}\n",
    "    idx_to_code = {}\n",
    "    \n",
    "    # for idx, code in enumerate(df[column].to_list()):\n",
    "    for idx, code in enumerate(set(df[column])):\n",
    "        code_to_idx[code] = idx\n",
    "        idx_to_code[idx] = code\n",
    "        \n",
    "    return code_to_idx, idx_to_code\n",
    "\n",
    "\n",
    "def map_ids(row, mapping):\n",
    "    '''\n",
    "    Вспомогательная функция\n",
    "    '''\n",
    "    return mapping[row]"
   ]
  },
  {
   "cell_type": "code",
   "execution_count": 54,
   "id": "d981394d",
   "metadata": {},
   "outputs": [
    {
     "name": "stdout",
     "output_type": "stream",
     "text": [
      "CPU times: user 40.6 s, sys: 1.49 s, total: 42.1 s\n",
      "Wall time: 42.1 s\n"
     ]
    }
   ],
   "source": [
    "%%time\n",
    "\n",
    "# словари с маппингами, нужно для tocsr матрицы\n",
    "user_to_idx, idx_to_user = create_mappings(train, 'customer_id')\n",
    "item_to_idx, idx_to_item = create_mappings(train, 'article_id')\n",
    "\n",
    "# собираем матрицу взаимодействий \n",
    "U = train['customer_id'].apply(map_ids, args=[user_to_idx]).values\n",
    "I = train['article_id'].apply(map_ids, args=[item_to_idx]).values\n",
    "\n",
    "# тут пока бинарная маска будет лежать для упрощения\n",
    "# можно попробовать поиграться с ценами\n",
    "values = np.ones(train.shape[0])\n",
    "    \n",
    "interactions = sparse.coo_matrix(\n",
    "    (values, (U, I)), \n",
    "    shape=(len(train['customer_id'].unique()), len(train['article_id'].unique())), \n",
    "    dtype=np.float64\n",
    ").tocsr()\n"
   ]
  },
  {
   "cell_type": "code",
   "execution_count": 55,
   "id": "9d093e18",
   "metadata": {},
   "outputs": [
    {
     "data": {
      "text/plain": [
       "NearestNeighbors(metric='cosine', n_jobs=-1, n_neighbors=20)"
      ]
     },
     "execution_count": 55,
     "metadata": {},
     "output_type": "execute_result"
    }
   ],
   "source": [
    "model = NearestNeighbors(n_neighbors=20, metric='cosine', n_jobs=-1)\n",
    "model.fit(interactions)"
   ]
  },
  {
   "cell_type": "code",
   "execution_count": 60,
   "id": "b9d8120b",
   "metadata": {},
   "outputs": [],
   "source": [
    "def make_predict_most_pop(train=train):\n",
    "    most_pop = train.query('t_dat > \"2020-09-05\"')\\\n",
    "        .groupby('article_id').size()\\\n",
    "        .sort_values(ascending=False)[:12].index.values\n",
    "    return list(most_pop) \n",
    "\n",
    "def make_predict(x, model, interactions=interactions):\n",
    "    user = x.customer_id\n",
    "    \n",
    "    if user in user_to_idx:\n",
    "        idx = user_to_idx[user]\n",
    "\n",
    "        distances, indices = model.kneighbors(interactions[idx], n_neighbors=20)\n",
    "\n",
    "        neighbor_users = [idx_to_user[i] for i in indices[0][1:]]\n",
    "    \n",
    "        # query('t_dat > \"2020-08-16\"') - покупки за последний месяц\n",
    "        local_pop = train.loc[train.customer_id.isin(neighbor_users)]\\\n",
    "                        .query('t_dat > \"2020-08-16\"')\\\n",
    "                        .groupby('article_id').size()\\\n",
    "                        .sort_values(ascending=False)[:12].index.values\n",
    "        return list(local_pop)\n",
    "    else:\n",
    "        most_pop = make_predict_most_pop()\n",
    "        return most_pop"
   ]
  },
  {
   "cell_type": "code",
   "execution_count": 61,
   "id": "cd701a89",
   "metadata": {},
   "outputs": [],
   "source": [
    "from tqdm.notebook import tqdm\n",
    "tqdm.pandas()"
   ]
  },
  {
   "cell_type": "code",
   "execution_count": 62,
   "id": "32400cd0",
   "metadata": {
    "scrolled": true
   },
   "outputs": [
    {
     "data": {
      "application/vnd.jupyter.widget-view+json": {
       "model_id": "9cb6b1b3952643a0bde4b980c712ffd1",
       "version_major": 2,
       "version_minor": 0
      },
      "text/plain": [
       "  0%|          | 0/10000 [00:00<?, ?it/s]"
      ]
     },
     "metadata": {},
     "output_type": "display_data"
    },
    {
     "name": "stdout",
     "output_type": "stream",
     "text": [
      "CPU times: user 37min 33s, sys: 21min 7s, total: 58min 41s\n",
      "Wall time: 55min 3s\n"
     ]
    }
   ],
   "source": [
    "%%time\n",
    "t = test.iloc[:10_000].copy()\n",
    "t['predict'] = t.progress_apply(make_predict, \n",
    "                                     model=model,\n",
    "                                     interactions=interactions,  \n",
    "                                     axis=1)"
   ]
  },
  {
   "cell_type": "code",
   "execution_count": 63,
   "id": "974b4b28",
   "metadata": {},
   "outputs": [
    {
     "data": {
      "text/plain": [
       "0.007418226151824365"
      ]
     },
     "execution_count": 63,
     "metadata": {},
     "output_type": "execute_result"
    }
   ],
   "source": [
    "mapk(t['target'].to_list(), t['predict'].to_list())"
   ]
  },
  {
   "cell_type": "code",
   "execution_count": null,
   "id": "f6f40b1d",
   "metadata": {},
   "outputs": [],
   "source": []
  }
 ],
 "metadata": {
  "kernelspec": {
   "display_name": "Python 3",
   "language": "python",
   "name": "python3"
  },
  "language_info": {
   "codemirror_mode": {
    "name": "ipython",
    "version": 3
   },
   "file_extension": ".py",
   "mimetype": "text/x-python",
   "name": "python",
   "nbconvert_exporter": "python",
   "pygments_lexer": "ipython3",
   "version": "3.8.8"
  }
 },
 "nbformat": 4,
 "nbformat_minor": 5
}
