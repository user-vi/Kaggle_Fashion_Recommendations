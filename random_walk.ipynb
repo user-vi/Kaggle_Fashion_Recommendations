{
 "cells": [
  {
   "cell_type": "markdown",
   "id": "b48d2a2a",
   "metadata": {},
   "source": [
    "https://github.com/KevinLiao159/MyDataSciencePortfolio/blob/af84b7162e320ee72622265b3b2857a8dc772f55/movie_recommender/src/knn_recommender.py#L224"
   ]
  },
  {
   "cell_type": "code",
   "execution_count": 1,
   "id": "03d62c21",
   "metadata": {},
   "outputs": [],
   "source": [
    "import pandas as pd\n",
    "import numpy as np\n",
    "from scipy import sparse\n",
    "from sklearn.preprocessing import normalize\n",
    "\n",
    "from tqdm.notebook import tqdm\n",
    "tqdm.pandas()\n",
    "\n",
    "from mapk import mapk\n",
    "from train_test_split import holdout\n",
    "\n",
    "pd.set_option('display.max_columns', None)\n",
    "# pd.set_option('display.max_rows', None)"
   ]
  },
  {
   "cell_type": "code",
   "execution_count": 2,
   "id": "986899ae",
   "metadata": {},
   "outputs": [],
   "source": [
    "# articles = pd.read_csv('../data/articles.csv')\n",
    "# customers = pd.read_csv('../data/customers.csv')\n",
    "transactions_train = pd.read_csv('../data/transactions_train.csv')"
   ]
  },
  {
   "cell_type": "code",
   "execution_count": 3,
   "id": "761c99fd",
   "metadata": {},
   "outputs": [],
   "source": [
    "# from sklearn.model_selection import train_test_split\n",
    "transactions_train['t_dat'] = pd.to_datetime(transactions_train['t_dat'])\n",
    "transactions_train = transactions_train.query('t_dat > \"2019-08-16\"')"
   ]
  },
  {
   "cell_type": "markdown",
   "id": "e2511500",
   "metadata": {},
   "source": [
    "# train"
   ]
  },
  {
   "cell_type": "code",
   "execution_count": 4,
   "id": "73701ed1",
   "metadata": {},
   "outputs": [],
   "source": [
    "train, test = holdout(transactions_train)"
   ]
  },
  {
   "cell_type": "code",
   "execution_count": 5,
   "id": "fc6e72d4",
   "metadata": {},
   "outputs": [],
   "source": [
    "# фильтрация товаров, которые пользователь из тест-группы уже купил\n",
    "drop_items = train.groupby('customer_id')['article_id'].apply(list).to_frame('target').reset_index()"
   ]
  },
  {
   "cell_type": "code",
   "execution_count": 7,
   "id": "2313375f",
   "metadata": {},
   "outputs": [],
   "source": [
    "def create_mappings(df, column):\n",
    "    '''\n",
    "    create_mappings(df, column)\n",
    "        Создаёт маппинг между оригинальными ключами словаря и новыми порядковыми.\n",
    "        \n",
    "        Parameters\n",
    "        ----------\n",
    "        df : pandas.DataFrame\n",
    "            DataFrame с данными.\n",
    "            \n",
    "        column : str\n",
    "            Название колонки, содержащей нужны ключи. \n",
    "        \n",
    "        Returns\n",
    "        -------\n",
    "        code_to_idx : dict\n",
    "            Словарь с маппингом: \"оригинальный ключ\" -> \"новый ключ\".\n",
    "        \n",
    "        idx_to_code : dict\n",
    "            Словарь с маппингом: \"новый ключ\" -> \"оригинальный ключ\".\n",
    "    '''\n",
    "    \n",
    "    code_to_idx = {}\n",
    "    idx_to_code = {}\n",
    "\n",
    "    for idx, code in enumerate(set(df[column])):\n",
    "        code_to_idx[code] = idx\n",
    "        idx_to_code[idx] = code\n",
    "        \n",
    "    return code_to_idx, idx_to_code\n",
    "\n",
    "\n",
    "def map_ids(row, mapping):\n",
    "    '''\n",
    "    Вспомогательная функция\n",
    "    '''\n",
    "    return mapping[row]\n",
    "\n",
    "\n",
    "def make_predict_most_pop(train):\n",
    "    most_pop = train.query('t_dat > \"2020-09-05\"')\\\n",
    "        .groupby('article_id').size()\\\n",
    "        .sort_values(ascending=False).index.values\n",
    "    return list(most_pop)\n",
    "\n",
    "\n",
    "def make_predict(row, train, interactions, **params):\n",
    "\n",
    "    def make_predict_knn(user, train, interactions, **params):\n",
    "        n_neighbors = params['n_neighbors']\n",
    "        date_from = params['date_from']\n",
    "        model = params['model']\n",
    "\n",
    "        idx = user_to_idx[user]\n",
    "        distances, indices = model.kneighbors(interactions[idx], n_neighbors=n_neighbors)\n",
    "\n",
    "        neighbor_users = [idx_to_user[i] for i in indices[0][1:]]\n",
    "\n",
    "        # query() - покупки за последние n-дней\n",
    "        local_pop = train.loc[train.customer_id.isin(neighbor_users)]\\\n",
    "                        .query('t_dat > @date_from')\\\n",
    "                        .groupby('article_id').size()\\\n",
    "                        .sort_values(ascending=False).index.values\n",
    "        return list(local_pop)\n",
    "\n",
    "    def make_predict_random_walk():\n",
    "        start = set(i for i in np.nonzero(interactions[1]))[1].tolist()\n",
    "        # рекомендации\n",
    "        predict = set([i for i in fit[1].toarray().argsort()[0][-100:].tolist()]) - start\n",
    "        return predict\n",
    "        \n",
    "\n",
    "\n",
    "    knn_predict = []\n",
    "    drop_item = []\n",
    "    customer_id = row.customer_id \n",
    "\n",
    "    if customer_id in user_to_idx:\n",
    "        knn_predict = make_predict_knn(customer_id, train, interactions, **params)\n",
    "        drop_item = drop_items.loc[drop_items.customer_id == customer_id].target.to_list()[0]\n",
    "\n",
    "    most_pop = make_predict_most_pop(train) #вынести из функции\n",
    "    \n",
    "#     acc = []\n",
    "#     acc = [i for i in (knn_predict + most_pop) if ((i not in acc) and (i not in drop_item))]\n",
    "#     return acc[:12]\n",
    "    return [i for i in (knn_predict + most_pop) if ((i not in acc) and (i not in drop_item))][:12]\n"
   ]
  },
  {
   "cell_type": "code",
   "execution_count": 8,
   "id": "d981394d",
   "metadata": {},
   "outputs": [
    {
     "name": "stdout",
     "output_type": "stream",
     "text": [
      "CPU times: user 23.7 s, sys: 840 ms, total: 24.5 s\n",
      "Wall time: 24.6 s\n"
     ]
    }
   ],
   "source": [
    "%%time\n",
    "\n",
    "# словари с маппингами, нужно для tocsr матрицы\n",
    "user_to_idx, idx_to_user = create_mappings(train, 'customer_id')\n",
    "item_to_idx, idx_to_item = create_mappings(train, 'article_id')\n",
    "\n",
    "# собираем матрицу взаимодействий \n",
    "U = train['customer_id'].apply(map_ids, args=[user_to_idx]).values\n",
    "I = train['article_id'].apply(map_ids, args=[item_to_idx]).values\n",
    "\n",
    "# тут пока бинарная маска будет лежать для упрощения\n",
    "# можно попробовать поиграться с ценами\n",
    "values = np.ones(train.shape[0])\n",
    "    \n",
    "interactions = sparse.coo_matrix(\n",
    "    (values, (U, I)), \n",
    "    shape=(len(train['customer_id'].unique()), len(train['article_id'].unique())), \n",
    "    dtype=np.float64\n",
    ").tocsr()\n"
   ]
  },
  {
   "cell_type": "code",
   "execution_count": 15,
   "id": "c8f6a4a0",
   "metadata": {},
   "outputs": [
    {
     "data": {
      "text/plain": [
       "<1017822x73335 sparse matrix of type '<class 'numpy.float64'>'\n",
       "\twith 13798926 stored elements in Compressed Sparse Row format>"
      ]
     },
     "execution_count": 15,
     "metadata": {},
     "output_type": "execute_result"
    }
   ],
   "source": [
    "interactions"
   ]
  },
  {
   "cell_type": "code",
   "execution_count": 9,
   "id": "dbf2a56c",
   "metadata": {},
   "outputs": [],
   "source": [
    "# можно отнормировать, если матрица не бинарная\n",
    "# interactions = normalize(interactions, norm='l2', axis=1)\n",
    "\n",
    "# косинусное растояние\n",
    "sim = interactions.T * interactions"
   ]
  },
  {
   "cell_type": "code",
   "execution_count": 10,
   "id": "cbb7f9c3",
   "metadata": {},
   "outputs": [
    {
     "data": {
      "text/plain": [
       "<73335x73335 sparse matrix of type '<class 'numpy.float64'>'\n",
       "\twith 266189269 stored elements in Compressed Sparse Column format>"
      ]
     },
     "execution_count": 10,
     "metadata": {},
     "output_type": "execute_result"
    }
   ],
   "source": [
    "sim"
   ]
  },
  {
   "cell_type": "code",
   "execution_count": 16,
   "id": "33b1c31b",
   "metadata": {},
   "outputs": [
    {
     "data": {
      "text/plain": [
       "[37477, 36780, 33022, 69274, 1]"
      ]
     },
     "execution_count": 16,
     "metadata": {},
     "output_type": "execute_result"
    }
   ],
   "source": [
    "# товары, похожие на 1\n",
    "[i for i in sim[1].toarray().argsort()[0][-5:]]"
   ]
  },
  {
   "cell_type": "code",
   "execution_count": null,
   "id": "8bd04351",
   "metadata": {},
   "outputs": [],
   "source": [
    "interactions"
   ]
  },
  {
   "cell_type": "code",
   "execution_count": null,
   "id": "5231409e",
   "metadata": {},
   "outputs": [],
   "source": [
    "%%time\n",
    "# interactions_transpose = interactions.transpose(copy=True)\n",
    "# Pui = normalize(interactions_transpose, norm='l2', axis=1)\n",
    "# fit = Pui * Piu * Pui\n",
    "\n",
    "fit = interactions.T * interactions * interactions.T"
   ]
  },
  {
   "cell_type": "code",
   "execution_count": 18,
   "id": "f575539e",
   "metadata": {},
   "outputs": [
    {
     "data": {
      "text/plain": [
       "<1017822x73335 sparse matrix of type '<class 'numpy.float64'>'\n",
       "\twith 13798926 stored elements in Compressed Sparse Row format>"
      ]
     },
     "execution_count": 18,
     "metadata": {},
     "output_type": "execute_result"
    }
   ],
   "source": [
    "fit"
   ]
  },
  {
   "cell_type": "code",
   "execution_count": null,
   "id": "47715e79",
   "metadata": {},
   "outputs": [],
   "source": [
    "# предпочтения 1го юзера\n",
    "start = set(i for i in np.nonzero(interactions[1]))[1].tolist()\n",
    "start"
   ]
  },
  {
   "cell_type": "code",
   "execution_count": null,
   "id": "f42b6e4a",
   "metadata": {},
   "outputs": [],
   "source": [
    "# рекомендации\n",
    "set([i for i in fit[1].toarray().argsort()[0][-100:].tolist()]) - start"
   ]
  },
  {
   "cell_type": "code",
   "execution_count": null,
   "id": "b83029c7",
   "metadata": {},
   "outputs": [],
   "source": []
  },
  {
   "cell_type": "code",
   "execution_count": 93,
   "id": "32400cd0",
   "metadata": {
    "scrolled": true
   },
   "outputs": [
    {
     "data": {
      "application/vnd.jupyter.widget-view+json": {
       "model_id": "2cdc233bdf824dd891d60b13c7b30a36",
       "version_major": 2,
       "version_minor": 0
      },
      "text/plain": [
       "  0%|          | 0/1000 [00:00<?, ?it/s]"
      ]
     },
     "metadata": {},
     "output_type": "display_data"
    },
    {
     "name": "stdout",
     "output_type": "stream",
     "text": [
      "CPU times: user 44min 57s, sys: 8min 25s, total: 53min 22s\n",
      "Wall time: 31min 10s\n"
     ]
    }
   ],
   "source": [
    "%%time\n",
    "params = dict()\n",
    "params['n_neighbors'] = 100\n",
    "params['date_from'] = \"2020-08-16\"\n",
    "params['model'] = model\n",
    "    \n",
    "t = test.iloc[:1_000].copy()\n",
    "t['predict'] = t.progress_apply(make_predict, \n",
    "                                train=train, \n",
    "                                interactions=interactions,\n",
    "                                **params,\n",
    "                                axis=1)"
   ]
  },
  {
   "cell_type": "code",
   "execution_count": 94,
   "id": "974b4b28",
   "metadata": {},
   "outputs": [
    {
     "data": {
      "text/plain": [
       "0.006310349927849928"
      ]
     },
     "execution_count": 94,
     "metadata": {},
     "output_type": "execute_result"
    }
   ],
   "source": [
    "mapk(t['target'].to_list(), t['predict'].to_list())"
   ]
  },
  {
   "cell_type": "code",
   "execution_count": 95,
   "id": "b871280e",
   "metadata": {},
   "outputs": [
    {
     "data": {
      "text/html": [
       "<div>\n",
       "<style scoped>\n",
       "    .dataframe tbody tr th:only-of-type {\n",
       "        vertical-align: middle;\n",
       "    }\n",
       "\n",
       "    .dataframe tbody tr th {\n",
       "        vertical-align: top;\n",
       "    }\n",
       "\n",
       "    .dataframe thead th {\n",
       "        text-align: right;\n",
       "    }\n",
       "</style>\n",
       "<table border=\"1\" class=\"dataframe\">\n",
       "  <thead>\n",
       "    <tr style=\"text-align: right;\">\n",
       "      <th></th>\n",
       "      <th>customer_id</th>\n",
       "      <th>target</th>\n",
       "      <th>predict</th>\n",
       "    </tr>\n",
       "  </thead>\n",
       "  <tbody>\n",
       "    <tr>\n",
       "      <th>0</th>\n",
       "      <td>00039306476aaf41a07fed942884f16b30abfa83a2a8be...</td>\n",
       "      <td>[624486001]</td>\n",
       "      <td>[297067002, 158340001, 876410006, 923134007, 9...</td>\n",
       "    </tr>\n",
       "    <tr>\n",
       "      <th>1</th>\n",
       "      <td>0003e867a930d0d6842f923d6ba7c9b77aba33fe2a0fbf...</td>\n",
       "      <td>[827487003]</td>\n",
       "      <td>[744276001, 886557002, 797988002, 748588001, 8...</td>\n",
       "    </tr>\n",
       "    <tr>\n",
       "      <th>2</th>\n",
       "      <td>000493dd9fc463df1acc2081450c9e75ef8e87d5dd17ed...</td>\n",
       "      <td>[757926001, 788575004, 640021019]</td>\n",
       "      <td>[237347045, 909370001, 918522001, 448509014, 7...</td>\n",
       "    </tr>\n",
       "    <tr>\n",
       "      <th>3</th>\n",
       "      <td>000525e3fe01600d717da8423643a8303390a055c578ed...</td>\n",
       "      <td>[874110016]</td>\n",
       "      <td>[909370001, 918522001, 448509014, 751471001, 8...</td>\n",
       "    </tr>\n",
       "    <tr>\n",
       "      <th>4</th>\n",
       "      <td>00077dbd5c4a4991e092e63893ccf29294a9d5c46e8501...</td>\n",
       "      <td>[903762001, 879189005, 158340001, 867966009, 9...</td>\n",
       "      <td>[715624001, 803772002, 677930086, 803757015, 8...</td>\n",
       "    </tr>\n",
       "    <tr>\n",
       "      <th>...</th>\n",
       "      <td>...</td>\n",
       "      <td>...</td>\n",
       "      <td>...</td>\n",
       "    </tr>\n",
       "    <tr>\n",
       "      <th>995</th>\n",
       "      <td>039ce97fc66af4f7e7b1d48253e5ed8e7aabe8b6563c91...</td>\n",
       "      <td>[893141002, 918525001, 914118001, 673677002]</td>\n",
       "      <td>[909370001, 918522001, 448509014, 751471001, 8...</td>\n",
       "    </tr>\n",
       "    <tr>\n",
       "      <th>996</th>\n",
       "      <td>039d76dd323437c52d439bb8a7ffb7b12b31e727893692...</td>\n",
       "      <td>[915526001]</td>\n",
       "      <td>[832997004, 408875001, 823118004, 885586001, 8...</td>\n",
       "    </tr>\n",
       "    <tr>\n",
       "      <th>997</th>\n",
       "      <td>039eccfe83fe082cc0c0e16aec1374cdd334d0689a2702...</td>\n",
       "      <td>[902362001, 568601045, 806131012]</td>\n",
       "      <td>[916468003, 909370001, 918522001, 448509014, 7...</td>\n",
       "    </tr>\n",
       "    <tr>\n",
       "      <th>998</th>\n",
       "      <td>039ed8943b80c61940f21540ca83dd6d0561c4960697ed...</td>\n",
       "      <td>[579541001, 579541075, 579541077, 759814022]</td>\n",
       "      <td>[664074079, 886569005, 664074001, 886569004, 8...</td>\n",
       "    </tr>\n",
       "    <tr>\n",
       "      <th>999</th>\n",
       "      <td>039f6ac4dd04289572c4d4f02403394c311617fd825454...</td>\n",
       "      <td>[897358001]</td>\n",
       "      <td>[448509014, 717490010, 818024001, 824997001, 8...</td>\n",
       "    </tr>\n",
       "  </tbody>\n",
       "</table>\n",
       "<p>1000 rows × 3 columns</p>\n",
       "</div>"
      ],
      "text/plain": [
       "                                           customer_id  \\\n",
       "0    00039306476aaf41a07fed942884f16b30abfa83a2a8be...   \n",
       "1    0003e867a930d0d6842f923d6ba7c9b77aba33fe2a0fbf...   \n",
       "2    000493dd9fc463df1acc2081450c9e75ef8e87d5dd17ed...   \n",
       "3    000525e3fe01600d717da8423643a8303390a055c578ed...   \n",
       "4    00077dbd5c4a4991e092e63893ccf29294a9d5c46e8501...   \n",
       "..                                                 ...   \n",
       "995  039ce97fc66af4f7e7b1d48253e5ed8e7aabe8b6563c91...   \n",
       "996  039d76dd323437c52d439bb8a7ffb7b12b31e727893692...   \n",
       "997  039eccfe83fe082cc0c0e16aec1374cdd334d0689a2702...   \n",
       "998  039ed8943b80c61940f21540ca83dd6d0561c4960697ed...   \n",
       "999  039f6ac4dd04289572c4d4f02403394c311617fd825454...   \n",
       "\n",
       "                                                target  \\\n",
       "0                                          [624486001]   \n",
       "1                                          [827487003]   \n",
       "2                    [757926001, 788575004, 640021019]   \n",
       "3                                          [874110016]   \n",
       "4    [903762001, 879189005, 158340001, 867966009, 9...   \n",
       "..                                                 ...   \n",
       "995       [893141002, 918525001, 914118001, 673677002]   \n",
       "996                                        [915526001]   \n",
       "997                  [902362001, 568601045, 806131012]   \n",
       "998       [579541001, 579541075, 579541077, 759814022]   \n",
       "999                                        [897358001]   \n",
       "\n",
       "                                               predict  \n",
       "0    [297067002, 158340001, 876410006, 923134007, 9...  \n",
       "1    [744276001, 886557002, 797988002, 748588001, 8...  \n",
       "2    [237347045, 909370001, 918522001, 448509014, 7...  \n",
       "3    [909370001, 918522001, 448509014, 751471001, 8...  \n",
       "4    [715624001, 803772002, 677930086, 803757015, 8...  \n",
       "..                                                 ...  \n",
       "995  [909370001, 918522001, 448509014, 751471001, 8...  \n",
       "996  [832997004, 408875001, 823118004, 885586001, 8...  \n",
       "997  [916468003, 909370001, 918522001, 448509014, 7...  \n",
       "998  [664074079, 886569005, 664074001, 886569004, 8...  \n",
       "999  [448509014, 717490010, 818024001, 824997001, 8...  \n",
       "\n",
       "[1000 rows x 3 columns]"
      ]
     },
     "execution_count": 95,
     "metadata": {},
     "output_type": "execute_result"
    }
   ],
   "source": [
    "t"
   ]
  },
  {
   "cell_type": "code",
   "execution_count": null,
   "id": "33757f4f",
   "metadata": {},
   "outputs": [],
   "source": []
  }
 ],
 "metadata": {
  "kernelspec": {
   "display_name": "Python 3",
   "language": "python",
   "name": "python3"
  },
  "language_info": {
   "codemirror_mode": {
    "name": "ipython",
    "version": 3
   },
   "file_extension": ".py",
   "mimetype": "text/x-python",
   "name": "python",
   "nbconvert_exporter": "python",
   "pygments_lexer": "ipython3",
   "version": "3.8.8"
  }
 },
 "nbformat": 4,
 "nbformat_minor": 5
}
