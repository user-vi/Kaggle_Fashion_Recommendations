{
 "cells": [
  {
   "cell_type": "markdown",
   "id": "b48d2a2a",
   "metadata": {},
   "source": [
    "https://github.com/KevinLiao159/MyDataSciencePortfolio/blob/af84b7162e320ee72622265b3b2857a8dc772f55/movie_recommender/src/knn_recommender.py#L224"
   ]
  },
  {
   "cell_type": "code",
   "execution_count": 1,
   "id": "03d62c21",
   "metadata": {},
   "outputs": [
    {
     "name": "stdout",
     "output_type": "stream",
     "text": [
      "INFO: Pandarallel will run on 12 workers.\n",
      "INFO: Pandarallel will use standard multiprocessing data transfer (pipe) to transfer data between the main process and workers.\n"
     ]
    }
   ],
   "source": [
    "import pandas as pd\n",
    "import numpy as np\n",
    "from scipy import sparse\n",
    "from sklearn.preprocessing import normalize\n",
    "\n",
    "from tqdm.notebook import tqdm\n",
    "tqdm.pandas()\n",
    "\n",
    "from pandarallel import pandarallel\n",
    "pandarallel.initialize(progress_bar=True)\n",
    "\n",
    "from mapk import mapk\n",
    "from train_test_split import holdout\n",
    "\n",
    "pd.set_option('display.max_columns', None)\n",
    "# pd.set_option('display.max_rows', None)"
   ]
  },
  {
   "cell_type": "code",
   "execution_count": 2,
   "id": "986899ae",
   "metadata": {},
   "outputs": [],
   "source": [
    "# articles = pd.read_csv('../data/articles.csv')\n",
    "# customers = pd.read_csv('../data/customers.csv')\n",
    "transactions_train = pd.read_csv('../data/transactions_train.csv')"
   ]
  },
  {
   "cell_type": "code",
   "execution_count": 3,
   "id": "761c99fd",
   "metadata": {},
   "outputs": [],
   "source": [
    "# from sklearn.model_selection import train_test_split\n",
    "transactions_train['t_dat'] = pd.to_datetime(transactions_train['t_dat'])\n",
    "transactions_train.query('t_dat > \"2019-08-16\"', inplace=True)"
   ]
  },
  {
   "cell_type": "markdown",
   "id": "e2511500",
   "metadata": {},
   "source": [
    "# train"
   ]
  },
  {
   "cell_type": "code",
   "execution_count": 4,
   "id": "73701ed1",
   "metadata": {},
   "outputs": [],
   "source": [
    "train, test = holdout(transactions_train)"
   ]
  },
  {
   "cell_type": "code",
   "execution_count": 5,
   "id": "e72dc1fd",
   "metadata": {},
   "outputs": [],
   "source": [
    "# отфильтруем товары, которые были куплены реже чем N-раз\n",
    "N = 1000\n",
    "popular_items = train.groupby('article_id').size()\\\n",
    "                                                .to_frame(name='cnt')\\\n",
    "                                                .reset_index()\\\n",
    "                                                .query('cnt > @N').article_id.tolist()"
   ]
  },
  {
   "cell_type": "code",
   "execution_count": 6,
   "id": "f108c6e5",
   "metadata": {},
   "outputs": [],
   "source": [
    "train = train.query('article_id in @popular_items').copy()"
   ]
  },
  {
   "cell_type": "code",
   "execution_count": 7,
   "id": "2313375f",
   "metadata": {},
   "outputs": [],
   "source": [
    "def create_mappings(df, column):\n",
    "    '''\n",
    "    create_mappings(df, column)\n",
    "        Создаёт маппинг между оригинальными ключами словаря и новыми порядковыми.\n",
    "        \n",
    "        Parameters\n",
    "        ----------\n",
    "        df : pandas.DataFrame\n",
    "            DataFrame с данными.\n",
    "            \n",
    "        column : str\n",
    "            Название колонки, содержащей нужны ключи. \n",
    "        \n",
    "        Returns\n",
    "        -------\n",
    "        code_to_idx : dict\n",
    "            Словарь с маппингом: \"оригинальный ключ\" -> \"новый ключ\".\n",
    "        \n",
    "        idx_to_code : dict\n",
    "            Словарь с маппингом: \"новый ключ\" -> \"оригинальный ключ\".\n",
    "    '''\n",
    "    \n",
    "    code_to_idx = {}\n",
    "    idx_to_code = {}\n",
    "\n",
    "    for idx, code in enumerate(set(df[column])):\n",
    "        code_to_idx[code] = idx\n",
    "        idx_to_code[idx] = code\n",
    "        \n",
    "    return code_to_idx, idx_to_code\n",
    "\n",
    "\n",
    "def map_ids(row, mapping):\n",
    "    '''\n",
    "    Вспомогательная функция\n",
    "    '''\n",
    "    return mapping[row]\n",
    "\n",
    "\n",
    "def make_predict_most_pop(train):\n",
    "    most_pop = train.query('t_dat > \"2020-09-05\"')\\\n",
    "        .groupby('article_id').size()\\\n",
    "        .sort_values(ascending=False).index.values\n",
    "    return list(most_pop)\n",
    "    \n",
    "def make_predict_parallel(row):\n",
    "    \"\"\"\n",
    "    # что у первого юзера в истории\n",
    "    start = set(i for i in np.nonzero(interactions[1]))[1].tolist()\n",
    "    start\n",
    "\n",
    "    # рекомендации минус исторические данные\n",
    "    set([i for i in fit[1].toarray().argsort()[0][-10:].tolist()]) - start\n",
    "    \n",
    "    \"\"\"\n",
    "    def make_predict_random_walk(customer_id, **params):\n",
    "        \"\"\"\n",
    "        проверить порядок объектов, сет может перемешать сортировку\n",
    "        \"\"\"\n",
    "        fit = params['model']\n",
    "        \n",
    "        user_idx = user_to_idx[customer_id]\n",
    "        # товары, которые пользователь уже купил\n",
    "        start = set(i for i in np.nonzero(interactions.getrow(user_idx))[1].tolist())\n",
    "        # рекомендации\n",
    "        predict = fit.getrow(user_idx).toarray().argsort()[0][-50:].tolist()\n",
    "        return [idx_to_item[i] for i in predict], [idx_to_item[i] for i in start]\n",
    "\n",
    "    knn_predict = []\n",
    "    drop_item = []\n",
    "    customer_id = row\n",
    "\n",
    "    if customer_id in user_to_idx:\n",
    "        knn_predict, drop_item = make_predict_random_walk(customer_id, **params)\n",
    "        return list(set(knn_predict) - set(drop_item))[-12:]\n",
    "    else:\n",
    "        return make_predict_most_pop(train)\n",
    "\n"
   ]
  },
  {
   "cell_type": "code",
   "execution_count": 8,
   "id": "d981394d",
   "metadata": {},
   "outputs": [
    {
     "name": "stdout",
     "output_type": "stream",
     "text": [
      "CPU times: user 11.2 s, sys: 323 ms, total: 11.5 s\n",
      "Wall time: 11.5 s\n"
     ]
    }
   ],
   "source": [
    "%%time\n",
    "\n",
    "# словари с маппингами, нужно для tocsr матрицы\n",
    "user_to_idx, idx_to_user = create_mappings(train, 'customer_id')\n",
    "item_to_idx, idx_to_item = create_mappings(train, 'article_id')\n",
    "\n",
    "# собираем матрицу взаимодействий \n",
    "U = train['customer_id'].apply(map_ids, args=[user_to_idx]).values\n",
    "I = train['article_id'].apply(map_ids, args=[item_to_idx]).values\n",
    "\n",
    "# тут пока бинарная маска будет лежать для упрощения\n",
    "# можно попробовать поиграться с ценами\n",
    "values = np.ones(train.shape[0])\n",
    "    \n",
    "interactions = sparse.coo_matrix(\n",
    "    (values, (U, I)), \n",
    "    shape=(len(train['customer_id'].unique()), len(train['article_id'].unique())), \n",
    "    dtype=np.float64\n",
    ").tocsr()\n"
   ]
  },
  {
   "cell_type": "code",
   "execution_count": 9,
   "id": "cc44bc6a",
   "metadata": {},
   "outputs": [],
   "source": [
    "# можно отнормировать, если матрица не бинарная\n",
    "# Pui = normalize(interactions, norm='l2', axis=1)\n",
    "\n",
    "# косинусное растояние\n",
    "# sim = Pui.T * Pui\n",
    "\n",
    "# товары, похожие на 1\n",
    "# [i for i in sim[1].toarray().argsort()[0][-5:]]"
   ]
  },
  {
   "cell_type": "code",
   "execution_count": 10,
   "id": "5ebeaa99",
   "metadata": {},
   "outputs": [
    {
     "name": "stdout",
     "output_type": "stream",
     "text": [
      "CPU times: user 1min 30s, sys: 1min 10s, total: 2min 40s\n",
      "Wall time: 3min 51s\n"
     ]
    }
   ],
   "source": [
    "%%time\n",
    "interactions_transpose = interactions.transpose(copy=True)\n",
    "Piu = normalize(interactions_transpose, norm='l2', axis=1)\n",
    "Pui = normalize(interactions, norm='l2', axis=1)\n",
    "fit = Pui * (Piu * Pui)\n",
    "\n",
    "# 889598x3786 * (3786x889596 * 889598x3786) = 889598x3786 * 3786x3786 = 889598x3786"
   ]
  },
  {
   "cell_type": "code",
   "execution_count": 11,
   "id": "b0fcf38f",
   "metadata": {},
   "outputs": [
    {
     "data": {
      "application/vnd.jupyter.widget-view+json": {
       "model_id": "040b6a32f78e49e3bb483c53c1b580c2",
       "version_major": 2,
       "version_minor": 0
      },
      "text/plain": [
       "VBox(children=(HBox(children=(IntProgress(value=0, description='0.00%', max=84), Label(value='0 / 84'))), HBox…"
      ]
     },
     "metadata": {},
     "output_type": "display_data"
    },
    {
     "name": "stdout",
     "output_type": "stream",
     "text": [
      "CPU times: user 975 ms, sys: 601 ms, total: 1.58 s\n",
      "Wall time: 6.11 s\n"
     ]
    }
   ],
   "source": [
    "%%time\n",
    "params = dict()\n",
    "params['model'] = fit\n",
    "    \n",
    "t = test.iloc[:1_000].copy()\n",
    "# нестабильно работает с аргументами\n",
    "t['predict'] = t.customer_id.parallel_apply(make_predict_parallel)"
   ]
  },
  {
   "cell_type": "code",
   "execution_count": 12,
   "id": "974b4b28",
   "metadata": {},
   "outputs": [
    {
     "data": {
      "text/plain": [
       "0.006217467532467533"
      ]
     },
     "execution_count": 12,
     "metadata": {},
     "output_type": "execute_result"
    }
   ],
   "source": [
    "mapk(t['target'].to_list(), t['predict'].to_list())"
   ]
  },
  {
   "cell_type": "code",
   "execution_count": 13,
   "id": "b871280e",
   "metadata": {},
   "outputs": [
    {
     "data": {
      "text/html": [
       "<div>\n",
       "<style scoped>\n",
       "    .dataframe tbody tr th:only-of-type {\n",
       "        vertical-align: middle;\n",
       "    }\n",
       "\n",
       "    .dataframe tbody tr th {\n",
       "        vertical-align: top;\n",
       "    }\n",
       "\n",
       "    .dataframe thead th {\n",
       "        text-align: right;\n",
       "    }\n",
       "</style>\n",
       "<table border=\"1\" class=\"dataframe\">\n",
       "  <thead>\n",
       "    <tr style=\"text-align: right;\">\n",
       "      <th></th>\n",
       "      <th>customer_id</th>\n",
       "      <th>target</th>\n",
       "      <th>predict</th>\n",
       "    </tr>\n",
       "  </thead>\n",
       "  <tbody>\n",
       "    <tr>\n",
       "      <th>0</th>\n",
       "      <td>00039306476aaf41a07fed942884f16b30abfa83a2a8be...</td>\n",
       "      <td>[624486001]</td>\n",
       "      <td>[156231001, 841383002, 537116001, 372860002, 3...</td>\n",
       "    </tr>\n",
       "    <tr>\n",
       "      <th>1</th>\n",
       "      <td>0003e867a930d0d6842f923d6ba7c9b77aba33fe2a0fbf...</td>\n",
       "      <td>[827487003]</td>\n",
       "      <td>[554450001, 448509014, 841383002, 372860001, 3...</td>\n",
       "    </tr>\n",
       "    <tr>\n",
       "      <th>2</th>\n",
       "      <td>000493dd9fc463df1acc2081450c9e75ef8e87d5dd17ed...</td>\n",
       "      <td>[757926001, 788575004, 640021019]</td>\n",
       "      <td>[610776002, 720125001, 554450001, 448509014, 3...</td>\n",
       "    </tr>\n",
       "    <tr>\n",
       "      <th>3</th>\n",
       "      <td>000525e3fe01600d717da8423643a8303390a055c578ed...</td>\n",
       "      <td>[874110016]</td>\n",
       "      <td>[909370001, 918522001, 448509014, 751471001, 9...</td>\n",
       "    </tr>\n",
       "    <tr>\n",
       "      <th>4</th>\n",
       "      <td>00077dbd5c4a4991e092e63893ccf29294a9d5c46e8501...</td>\n",
       "      <td>[903762001, 879189005, 158340001, 867966009, 9...</td>\n",
       "      <td>[803757001, 673677002, 711053003, 448509001, 4...</td>\n",
       "    </tr>\n",
       "    <tr>\n",
       "      <th>...</th>\n",
       "      <td>...</td>\n",
       "      <td>...</td>\n",
       "      <td>...</td>\n",
       "    </tr>\n",
       "    <tr>\n",
       "      <th>995</th>\n",
       "      <td>039ce97fc66af4f7e7b1d48253e5ed8e7aabe8b6563c91...</td>\n",
       "      <td>[893141002, 918525001, 914118001, 673677002]</td>\n",
       "      <td>[896152002, 610776002, 723469001, 803757001, 6...</td>\n",
       "    </tr>\n",
       "    <tr>\n",
       "      <th>996</th>\n",
       "      <td>039d76dd323437c52d439bb8a7ffb7b12b31e727893692...</td>\n",
       "      <td>[915526001]</td>\n",
       "      <td>[673677002, 720125001, 822946001, 448509014, 8...</td>\n",
       "    </tr>\n",
       "    <tr>\n",
       "      <th>997</th>\n",
       "      <td>039eccfe83fe082cc0c0e16aec1374cdd334d0689a2702...</td>\n",
       "      <td>[902362001, 568601045, 806131012]</td>\n",
       "      <td>[610776002, 762205001, 803757001, 720125001, 6...</td>\n",
       "    </tr>\n",
       "    <tr>\n",
       "      <th>998</th>\n",
       "      <td>039ed8943b80c61940f21540ca83dd6d0561c4960697ed...</td>\n",
       "      <td>[579541001, 579541075, 579541077, 759814022]</td>\n",
       "      <td>[664074059, 783346001, 695632087, 695632089, 3...</td>\n",
       "    </tr>\n",
       "    <tr>\n",
       "      <th>999</th>\n",
       "      <td>039f6ac4dd04289572c4d4f02403394c311617fd825454...</td>\n",
       "      <td>[897358001]</td>\n",
       "      <td>[156231001, 821031002, 841383002, 861847004, 8...</td>\n",
       "    </tr>\n",
       "  </tbody>\n",
       "</table>\n",
       "<p>1000 rows × 3 columns</p>\n",
       "</div>"
      ],
      "text/plain": [
       "                                           customer_id  \\\n",
       "0    00039306476aaf41a07fed942884f16b30abfa83a2a8be...   \n",
       "1    0003e867a930d0d6842f923d6ba7c9b77aba33fe2a0fbf...   \n",
       "2    000493dd9fc463df1acc2081450c9e75ef8e87d5dd17ed...   \n",
       "3    000525e3fe01600d717da8423643a8303390a055c578ed...   \n",
       "4    00077dbd5c4a4991e092e63893ccf29294a9d5c46e8501...   \n",
       "..                                                 ...   \n",
       "995  039ce97fc66af4f7e7b1d48253e5ed8e7aabe8b6563c91...   \n",
       "996  039d76dd323437c52d439bb8a7ffb7b12b31e727893692...   \n",
       "997  039eccfe83fe082cc0c0e16aec1374cdd334d0689a2702...   \n",
       "998  039ed8943b80c61940f21540ca83dd6d0561c4960697ed...   \n",
       "999  039f6ac4dd04289572c4d4f02403394c311617fd825454...   \n",
       "\n",
       "                                                target  \\\n",
       "0                                          [624486001]   \n",
       "1                                          [827487003]   \n",
       "2                    [757926001, 788575004, 640021019]   \n",
       "3                                          [874110016]   \n",
       "4    [903762001, 879189005, 158340001, 867966009, 9...   \n",
       "..                                                 ...   \n",
       "995       [893141002, 918525001, 914118001, 673677002]   \n",
       "996                                        [915526001]   \n",
       "997                  [902362001, 568601045, 806131012]   \n",
       "998       [579541001, 579541075, 579541077, 759814022]   \n",
       "999                                        [897358001]   \n",
       "\n",
       "                                               predict  \n",
       "0    [156231001, 841383002, 537116001, 372860002, 3...  \n",
       "1    [554450001, 448509014, 841383002, 372860001, 3...  \n",
       "2    [610776002, 720125001, 554450001, 448509014, 3...  \n",
       "3    [909370001, 918522001, 448509014, 751471001, 9...  \n",
       "4    [803757001, 673677002, 711053003, 448509001, 4...  \n",
       "..                                                 ...  \n",
       "995  [896152002, 610776002, 723469001, 803757001, 6...  \n",
       "996  [673677002, 720125001, 822946001, 448509014, 8...  \n",
       "997  [610776002, 762205001, 803757001, 720125001, 6...  \n",
       "998  [664074059, 783346001, 695632087, 695632089, 3...  \n",
       "999  [156231001, 821031002, 841383002, 861847004, 8...  \n",
       "\n",
       "[1000 rows x 3 columns]"
      ]
     },
     "execution_count": 13,
     "metadata": {},
     "output_type": "execute_result"
    }
   ],
   "source": [
    "t"
   ]
  },
  {
   "cell_type": "code",
   "execution_count": null,
   "id": "33757f4f",
   "metadata": {},
   "outputs": [],
   "source": []
  }
 ],
 "metadata": {
  "kernelspec": {
   "display_name": "Python 3",
   "language": "python",
   "name": "python3"
  },
  "language_info": {
   "codemirror_mode": {
    "name": "ipython",
    "version": 3
   },
   "file_extension": ".py",
   "mimetype": "text/x-python",
   "name": "python",
   "nbconvert_exporter": "python",
   "pygments_lexer": "ipython3",
   "version": "3.8.8"
  }
 },
 "nbformat": 4,
 "nbformat_minor": 5
}
