{
 "cells": [
  {
   "cell_type": "code",
   "execution_count": 1,
   "id": "03d62c21",
   "metadata": {},
   "outputs": [
    {
     "name": "stdout",
     "output_type": "stream",
     "text": [
      "INFO: Pandarallel will run on 12 workers.\n",
      "INFO: Pandarallel will use standard multiprocessing data transfer (pipe) to transfer data between the main process and workers.\n"
     ]
    }
   ],
   "source": [
    "import pandas as pd\n",
    "import numpy as np\n",
    "from scipy import sparse\n",
    "from tqdm.notebook import tqdm\n",
    "import implicit\n",
    "\n",
    "from tqdm.notebook import tqdm\n",
    "tqdm.pandas()\n",
    "\n",
    "from pandarallel import pandarallel\n",
    "pandarallel.initialize(progress_bar=True)\n",
    "\n",
    "from mapk import mapk\n",
    "from train_test_split import holdout\n",
    "\n",
    "pd.set_option('display.max_columns', None)\n",
    "# pd.set_option('display.max_rows', None)\n"
   ]
  },
  {
   "cell_type": "code",
   "execution_count": 2,
   "id": "986899ae",
   "metadata": {},
   "outputs": [],
   "source": [
    "# articles = pd.read_csv('../data/articles.csv')\n",
    "# customers = pd.read_csv('../data/customers.csv')\n",
    "transactions_train = pd.read_csv('../data/transactions_train.csv')"
   ]
  },
  {
   "cell_type": "code",
   "execution_count": 3,
   "id": "761c99fd",
   "metadata": {},
   "outputs": [],
   "source": [
    "# from sklearn.model_selection import train_test_split\n",
    "transactions_train['t_dat'] = pd.to_datetime(transactions_train['t_dat'])\n",
    "transactions_train.query('t_dat > \"2019-08-16\"', inplace=True)\n",
    "# transactions_train.query('t_dat > \"2020-09-01\"', inplace=True)"
   ]
  },
  {
   "cell_type": "markdown",
   "id": "e2511500",
   "metadata": {},
   "source": [
    "# train"
   ]
  },
  {
   "cell_type": "code",
   "execution_count": 4,
   "id": "73701ed1",
   "metadata": {},
   "outputs": [],
   "source": [
    "train, test = holdout(transactions_train)"
   ]
  },
  {
   "cell_type": "code",
   "execution_count": 5,
   "id": "10feb7da",
   "metadata": {},
   "outputs": [
    {
     "name": "stderr",
     "output_type": "stream",
     "text": [
      "<ipython-input-5-de0970443873>:8: SettingWithCopyWarning: \n",
      "A value is trying to be set on a copy of a slice from a DataFrame\n",
      "\n",
      "See the caveats in the documentation: https://pandas.pydata.org/pandas-docs/stable/user_guide/indexing.html#returning-a-view-versus-a-copy\n",
      "  train.query('article_id in @popular_items', inplace=True)\n"
     ]
    }
   ],
   "source": [
    "# отфильтруем товары, которые были куплены реже чем N-раз\n",
    "N = 1000  # при меньше 1000 ядро падает\n",
    "popular_items = train.groupby('article_id').size()\\\n",
    "                                            .to_frame(name='cnt')\\\n",
    "                                            .reset_index()\\\n",
    "                                            .query('cnt > @N').article_id.tolist()\n",
    "\n",
    "train.query('article_id in @popular_items', inplace=True)"
   ]
  },
  {
   "cell_type": "code",
   "execution_count": 6,
   "id": "659c897f",
   "metadata": {},
   "outputs": [],
   "source": [
    "# удалим из обучающей выборки пользователей, которые есть в тестовой\n",
    "test_users = test[['customer_id']]\n",
    "\n",
    "train_users = set(\n",
    "    (\n",
    "        pd.merge(train[['customer_id']], test_users, indicator=True, how='outer')\n",
    "        .query('_merge==\"left_only\"')\n",
    "        .drop('_merge', axis=1)\n",
    "    ).customer_id\n",
    ")\n",
    "\n",
    "train = train.query('customer_id in @train_users')"
   ]
  },
  {
   "cell_type": "code",
   "execution_count": 7,
   "id": "e6bde5f3",
   "metadata": {},
   "outputs": [],
   "source": [
    "date_from = \"2020-08-16\"\n",
    "actual_items = train.query('t_dat > @date_from').article_id.unique()\n",
    "\n",
    "drop_items = list(train.query('article_id not in @actual_items').article_id.unique())"
   ]
  },
  {
   "cell_type": "code",
   "execution_count": 8,
   "id": "5977715d",
   "metadata": {},
   "outputs": [],
   "source": [
    "# # получаем полный набор маппингов\n",
    "# all_users = transactions_train[['customer_id']]\n",
    "# all_items = transactions_train[['article_id']]"
   ]
  },
  {
   "cell_type": "code",
   "execution_count": 9,
   "id": "b9565ab6",
   "metadata": {},
   "outputs": [],
   "source": [
    "# df = pd.DataFrame([[1, 1, 5], [2, 2, 5]], columns=['one', 'two', 'three'])\n",
    "# df\n",
    "\n",
    "# len(df.one.values)\n",
    "\n",
    "# interactions = sparse.coo_matrix(\n",
    "#     (df.three.values, (df.one.values, df.two.values)), \n",
    "#     shape=(len(df.one.values)+1, len(df.two.values)+1), \n",
    "#     dtype=np.float64\n",
    "# ).tocsr()\n",
    "\n",
    "# interactions"
   ]
  },
  {
   "cell_type": "code",
   "execution_count": 10,
   "id": "2313375f",
   "metadata": {},
   "outputs": [],
   "source": [
    "def create_mappings(df, column):\n",
    "    '''\n",
    "    create_mappings(df, column)\n",
    "        Создаёт маппинг между оригинальными ключами словаря и новыми порядковыми.\n",
    "        \n",
    "        Parameters\n",
    "        ----------\n",
    "        df : pandas.DataFrame\n",
    "            DataFrame с данными.\n",
    "            \n",
    "        column : str\n",
    "            Название колонки, содержащей нужны ключи. \n",
    "        \n",
    "        Returns\n",
    "        -------\n",
    "        code_to_idx : dict\n",
    "            Словарь с маппингом: \"оригинальный ключ\" -> \"новый ключ\".\n",
    "        \n",
    "        idx_to_code : dict\n",
    "            Словарь с маппингом: \"новый ключ\" -> \"оригинальный ключ\".\n",
    "    '''\n",
    "    \n",
    "    code_to_idx = {}\n",
    "    idx_to_code = {}\n",
    "    \n",
    "    # for idx, code in enumerate(df[column].to_list()):\n",
    "    for idx, code in enumerate(set(df[column])):\n",
    "        code_to_idx[code] = idx\n",
    "        idx_to_code[idx] = code\n",
    "        \n",
    "    return code_to_idx, idx_to_code\n",
    "\n",
    "\n",
    "def map_ids(row, mapping):\n",
    "    '''\n",
    "    Вспомогательная функция\n",
    "    '''\n",
    "    return mapping[row]"
   ]
  },
  {
   "cell_type": "code",
   "execution_count": 13,
   "id": "d981394d",
   "metadata": {},
   "outputs": [
    {
     "name": "stdout",
     "output_type": "stream",
     "text": [
      "CPU times: user 24.5 s, sys: 785 ms, total: 25.3 s\n",
      "Wall time: 25.4 s\n"
     ]
    }
   ],
   "source": [
    "%%time\n",
    "\n",
    "# словари с маппингами, нужно для tocsr матрицы\n",
    "user_to_idx, idx_to_user = create_mappings(transactions_train, 'customer_id')\n",
    "item_to_idx, idx_to_item = create_mappings(transactions_train, 'article_id')\n",
    "\n",
    "# собираем матрицу взаимодействий \n",
    "U = transactions_train['customer_id'].apply(map_ids, args=[user_to_idx]).values\n",
    "I = transactions_train['article_id'].apply(map_ids, args=[item_to_idx]).values\n",
    "\n",
    "# тут пока бинарная маска будет лежать для упрощения\n",
    "# можно попробовать поиграться с ценами\n",
    "values = np.ones(transactions_train.shape[0])\n",
    "    \n",
    "interactions = sparse.coo_matrix(\n",
    "    (values, (U, I)), \n",
    "    shape=(len(transactions_train['customer_id'].unique()), len(transactions_train['article_id'].unique())), \n",
    "    dtype=np.float64\n",
    ").tocsr()\n"
   ]
  },
  {
   "cell_type": "code",
   "execution_count": 30,
   "id": "cd83d7eb",
   "metadata": {},
   "outputs": [
    {
     "data": {
      "application/vnd.jupyter.widget-view+json": {
       "model_id": "aa47f19495b546dab788be62966a1baa",
       "version_major": 2,
       "version_minor": 0
      },
      "text/plain": [
       "  0%|          | 0/75 [00:00<?, ?it/s]"
      ]
     },
     "metadata": {},
     "output_type": "display_data"
    }
   ],
   "source": [
    "mappings = (idx_to_user, user_to_idx), (idx_to_item, item_to_idx) \n",
    "\n",
    "X_test=test.copy()\n",
    "col='customer_id'\n",
    "N=12\n",
    "\n",
    "(idx_to_uid, uid_to_idx), (idx_to_oid, oid_to_idx) = mappings\n",
    "    \n",
    "# predictions = X_test[[col]].copy()\n",
    "# predictions['target'] = pd.Series(dtype=object)\n",
    "# predictions = predictions.set_index(col)\n",
    "\n",
    "base_model = implicit.als.AlternatingLeastSquares(\n",
    "    factors=5, \n",
    "    iterations=75, \n",
    "    regularization=0.05, \n",
    "    num_threads = 12,\n",
    "    random_state=42\n",
    ")\n",
    "\n",
    "base_model.fit(interactions.T)\n"
   ]
  },
  {
   "cell_type": "code",
   "execution_count": 31,
   "id": "2cc13262",
   "metadata": {},
   "outputs": [
    {
     "data": {
      "application/vnd.jupyter.widget-view+json": {
       "model_id": "ac01083ff4ad401c9870125f31d3c125",
       "version_major": 2,
       "version_minor": 0
      },
      "text/plain": [
       "  0%|          | 0/1025182 [00:00<?, ?it/s]"
      ]
     },
     "metadata": {},
     "output_type": "display_data"
    },
    {
     "name": "stdout",
     "output_type": "stream",
     "text": [
      "CPU times: user 22min 8s, sys: 8.23 s, total: 22min 16s\n",
      "Wall time: 5min 47s\n"
     ]
    }
   ],
   "source": [
    "%%time\n",
    "# https://github.com/benfred/implicit/blob/553010d5d600111fb45c2aeb5e8ac2004d15e827/implicit/recommender_base.pyx\n",
    "\n",
    "recommendations = base_model.recommend_all(\n",
    "    interactions,\n",
    "    N=N,\n",
    "    filter_already_liked_items=True,  # если пользователь уже купил товар, больше не предлагать\n",
    "    filter_items=[item_to_idx[i] for i in drop_items],  # сюда положить несезонные товары\n",
    ")\n",
    "\n"
   ]
  },
  {
   "cell_type": "code",
   "execution_count": 32,
   "id": "5bf7336b",
   "metadata": {},
   "outputs": [
    {
     "data": {
      "application/vnd.jupyter.widget-view+json": {
       "model_id": "75819570016b4cbbab4145dd4f9bd602",
       "version_major": 2,
       "version_minor": 0
      },
      "text/plain": [
       "  0%|          | 0/1000 [00:00<?, ?it/s]"
      ]
     },
     "metadata": {},
     "output_type": "display_data"
    },
    {
     "name": "stdout",
     "output_type": "stream",
     "text": [
      "CPU times: user 284 ms, sys: 5.04 ms, total: 290 ms\n",
      "Wall time: 49.1 ms\n"
     ]
    }
   ],
   "source": [
    "%%time\n",
    "\n",
    "t = test.iloc[:1_000].copy()\n",
    "# t = test.copy()\n",
    "t['predict'] = t.progress_apply(lambda row: [idx_to_item[i] for i in recommendations[user_to_idx[row.customer_id]]], \n",
    "                                axis=1)\n",
    "\n",
    "\n"
   ]
  },
  {
   "cell_type": "code",
   "execution_count": 33,
   "id": "974b4b28",
   "metadata": {},
   "outputs": [
    {
     "data": {
      "text/plain": [
       "0.0"
      ]
     },
     "execution_count": 33,
     "metadata": {},
     "output_type": "execute_result"
    }
   ],
   "source": [
    "mapk(t['target'].to_list(), t['predict'].to_list())"
   ]
  },
  {
   "cell_type": "code",
   "execution_count": 35,
   "id": "cf239c7f",
   "metadata": {},
   "outputs": [
    {
     "data": {
      "text/html": [
       "<div>\n",
       "<style scoped>\n",
       "    .dataframe tbody tr th:only-of-type {\n",
       "        vertical-align: middle;\n",
       "    }\n",
       "\n",
       "    .dataframe tbody tr th {\n",
       "        vertical-align: top;\n",
       "    }\n",
       "\n",
       "    .dataframe thead th {\n",
       "        text-align: right;\n",
       "    }\n",
       "</style>\n",
       "<table border=\"1\" class=\"dataframe\">\n",
       "  <thead>\n",
       "    <tr style=\"text-align: right;\">\n",
       "      <th></th>\n",
       "      <th>customer_id</th>\n",
       "      <th>target</th>\n",
       "      <th>predict</th>\n",
       "    </tr>\n",
       "  </thead>\n",
       "  <tbody>\n",
       "    <tr>\n",
       "      <th>0</th>\n",
       "      <td>00039306476aaf41a07fed942884f16b30abfa83a2a8be...</td>\n",
       "      <td>[624486001]</td>\n",
       "      <td>[372860001, 158340001, 156231001, 372860002, 1...</td>\n",
       "    </tr>\n",
       "    <tr>\n",
       "      <th>1</th>\n",
       "      <td>0003e867a930d0d6842f923d6ba7c9b77aba33fe2a0fbf...</td>\n",
       "      <td>[827487003]</td>\n",
       "      <td>[706016001, 759871002, 706016002, 448509014, 7...</td>\n",
       "    </tr>\n",
       "    <tr>\n",
       "      <th>2</th>\n",
       "      <td>000493dd9fc463df1acc2081450c9e75ef8e87d5dd17ed...</td>\n",
       "      <td>[757926001, 788575004, 640021019]</td>\n",
       "      <td>[706016003, 706016015, 706016006, 706016019, 4...</td>\n",
       "    </tr>\n",
       "    <tr>\n",
       "      <th>3</th>\n",
       "      <td>000525e3fe01600d717da8423643a8303390a055c578ed...</td>\n",
       "      <td>[874110016]</td>\n",
       "      <td>[759871002, 720125001, 706016001, 448509014, 7...</td>\n",
       "    </tr>\n",
       "    <tr>\n",
       "      <th>4</th>\n",
       "      <td>00077dbd5c4a4991e092e63893ccf29294a9d5c46e8501...</td>\n",
       "      <td>[903762001, 879189005, 158340001, 867966009, 9...</td>\n",
       "      <td>[759871002, 806388003, 685814001, 685816002, 6...</td>\n",
       "    </tr>\n",
       "    <tr>\n",
       "      <th>...</th>\n",
       "      <td>...</td>\n",
       "      <td>...</td>\n",
       "      <td>...</td>\n",
       "    </tr>\n",
       "    <tr>\n",
       "      <th>995</th>\n",
       "      <td>039ce97fc66af4f7e7b1d48253e5ed8e7aabe8b6563c91...</td>\n",
       "      <td>[893141002, 918525001, 914118001, 673677002]</td>\n",
       "      <td>[751471001, 783346001, 562245046, 796210001, 8...</td>\n",
       "    </tr>\n",
       "    <tr>\n",
       "      <th>996</th>\n",
       "      <td>039d76dd323437c52d439bb8a7ffb7b12b31e727893692...</td>\n",
       "      <td>[915526001]</td>\n",
       "      <td>[759871002, 720125001, 448509014, 806388002, 8...</td>\n",
       "    </tr>\n",
       "    <tr>\n",
       "      <th>997</th>\n",
       "      <td>039eccfe83fe082cc0c0e16aec1374cdd334d0689a2702...</td>\n",
       "      <td>[902362001, 568601045, 806131012]</td>\n",
       "      <td>[751471001, 783346001, 562245046, 610776002, 7...</td>\n",
       "    </tr>\n",
       "    <tr>\n",
       "      <th>998</th>\n",
       "      <td>039ed8943b80c61940f21540ca83dd6d0561c4960697ed...</td>\n",
       "      <td>[579541001, 579541075, 579541077, 759814022]</td>\n",
       "      <td>[751471001, 610776002, 783346001, 562245046, 6...</td>\n",
       "    </tr>\n",
       "    <tr>\n",
       "      <th>999</th>\n",
       "      <td>039f6ac4dd04289572c4d4f02403394c311617fd825454...</td>\n",
       "      <td>[897358001]</td>\n",
       "      <td>[751471001, 806388002, 448509014, 806388001, 6...</td>\n",
       "    </tr>\n",
       "  </tbody>\n",
       "</table>\n",
       "<p>1000 rows × 3 columns</p>\n",
       "</div>"
      ],
      "text/plain": [
       "                                           customer_id  \\\n",
       "0    00039306476aaf41a07fed942884f16b30abfa83a2a8be...   \n",
       "1    0003e867a930d0d6842f923d6ba7c9b77aba33fe2a0fbf...   \n",
       "2    000493dd9fc463df1acc2081450c9e75ef8e87d5dd17ed...   \n",
       "3    000525e3fe01600d717da8423643a8303390a055c578ed...   \n",
       "4    00077dbd5c4a4991e092e63893ccf29294a9d5c46e8501...   \n",
       "..                                                 ...   \n",
       "995  039ce97fc66af4f7e7b1d48253e5ed8e7aabe8b6563c91...   \n",
       "996  039d76dd323437c52d439bb8a7ffb7b12b31e727893692...   \n",
       "997  039eccfe83fe082cc0c0e16aec1374cdd334d0689a2702...   \n",
       "998  039ed8943b80c61940f21540ca83dd6d0561c4960697ed...   \n",
       "999  039f6ac4dd04289572c4d4f02403394c311617fd825454...   \n",
       "\n",
       "                                                target  \\\n",
       "0                                          [624486001]   \n",
       "1                                          [827487003]   \n",
       "2                    [757926001, 788575004, 640021019]   \n",
       "3                                          [874110016]   \n",
       "4    [903762001, 879189005, 158340001, 867966009, 9...   \n",
       "..                                                 ...   \n",
       "995       [893141002, 918525001, 914118001, 673677002]   \n",
       "996                                        [915526001]   \n",
       "997                  [902362001, 568601045, 806131012]   \n",
       "998       [579541001, 579541075, 579541077, 759814022]   \n",
       "999                                        [897358001]   \n",
       "\n",
       "                                               predict  \n",
       "0    [372860001, 158340001, 156231001, 372860002, 1...  \n",
       "1    [706016001, 759871002, 706016002, 448509014, 7...  \n",
       "2    [706016003, 706016015, 706016006, 706016019, 4...  \n",
       "3    [759871002, 720125001, 706016001, 448509014, 7...  \n",
       "4    [759871002, 806388003, 685814001, 685816002, 6...  \n",
       "..                                                 ...  \n",
       "995  [751471001, 783346001, 562245046, 796210001, 8...  \n",
       "996  [759871002, 720125001, 448509014, 806388002, 8...  \n",
       "997  [751471001, 783346001, 562245046, 610776002, 7...  \n",
       "998  [751471001, 610776002, 783346001, 562245046, 6...  \n",
       "999  [751471001, 806388002, 448509014, 806388001, 6...  \n",
       "\n",
       "[1000 rows x 3 columns]"
      ]
     },
     "execution_count": 35,
     "metadata": {},
     "output_type": "execute_result"
    }
   ],
   "source": [
    "t"
   ]
  }
 ],
 "metadata": {
  "kernelspec": {
   "display_name": "Python 3",
   "language": "python",
   "name": "python3"
  },
  "language_info": {
   "codemirror_mode": {
    "name": "ipython",
    "version": 3
   },
   "file_extension": ".py",
   "mimetype": "text/x-python",
   "name": "python",
   "nbconvert_exporter": "python",
   "pygments_lexer": "ipython3",
   "version": "3.8.8"
  }
 },
 "nbformat": 4,
 "nbformat_minor": 5
}
