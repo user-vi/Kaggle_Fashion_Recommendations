{
 "cells": [
  {
   "cell_type": "code",
   "execution_count": 7,
   "id": "03d62c21",
   "metadata": {},
   "outputs": [],
   "source": [
    "import pandas as pd\n",
    "import numpy as np\n",
    "\n",
    "pd.set_option('display.max_columns', None)\n",
    "# pd.set_option('display.max_rows', None)"
   ]
  },
  {
   "cell_type": "code",
   "execution_count": 8,
   "id": "080376c5",
   "metadata": {},
   "outputs": [],
   "source": [
    "from mapk import mapk\n",
    "from train_test_split import holdout"
   ]
  },
  {
   "cell_type": "code",
   "execution_count": 9,
   "id": "986899ae",
   "metadata": {},
   "outputs": [],
   "source": [
    "articles = pd.read_csv('../data/articles.csv')\n",
    "\n",
    "customers = pd.read_csv('../data/customers.csv')\n",
    "\n",
    "transactions_train = pd.read_csv('../data/transactions_train.csv')\n",
    "transactions_train['t_dat'] = pd.to_datetime(transactions_train['t_dat'])"
   ]
  },
  {
   "cell_type": "code",
   "execution_count": 12,
   "id": "73701ed1",
   "metadata": {},
   "outputs": [],
   "source": [
    "train, test = holdout(transactions_train)"
   ]
  },
  {
   "cell_type": "code",
   "execution_count": 13,
   "id": "32400cd0",
   "metadata": {
    "scrolled": true
   },
   "outputs": [],
   "source": [
    "most_pop = train.groupby('article_id').size().sort_values(ascending=False)[:12].index.values\n",
    "pred = list(most_pop)\n",
    "\n",
    "test['predict'] = test.apply(lambda _: pred, axis=1)"
   ]
  },
  {
   "cell_type": "code",
   "execution_count": null,
   "id": "974b4b28",
   "metadata": {},
   "outputs": [],
   "source": [
    "mapk(test['target'].to_list(), test['predict'].to_list())"
   ]
  },
  {
   "cell_type": "code",
   "execution_count": null,
   "id": "df4188dc",
   "metadata": {},
   "outputs": [],
   "source": []
  }
 ],
 "metadata": {
  "kernelspec": {
   "display_name": "Python 3",
   "language": "python",
   "name": "python3"
  },
  "language_info": {
   "codemirror_mode": {
    "name": "ipython",
    "version": 3
   },
   "file_extension": ".py",
   "mimetype": "text/x-python",
   "name": "python",
   "nbconvert_exporter": "python",
   "pygments_lexer": "ipython3",
   "version": "3.8.8"
  }
 },
 "nbformat": 4,
 "nbformat_minor": 5
}
